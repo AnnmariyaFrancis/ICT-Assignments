{
  "cells": [
    {
      "cell_type": "markdown",
      "metadata": {
        "id": "view-in-github",
        "colab_type": "text"
      },
      "source": [
        "<a href=\"https://colab.research.google.com/github/AnnmariyaFrancis/ICT-Assignments/blob/main/Ann_Mariya_Francis_pca_kmeansNCI60.ipynb\" target=\"_parent\"><img src=\"https://colab.research.google.com/assets/colab-badge.svg\" alt=\"Open In Colab\"/></a>"
      ]
    },
    {
      "cell_type": "code",
      "execution_count": 35,
      "id": "79ceb4c3",
      "metadata": {
        "id": "79ceb4c3"
      },
      "outputs": [],
      "source": [
        "import pandas as pd\n",
        "import numpy as np\n",
        "import matplotlib.pyplot as plt\n",
        "import seaborn as sns\n"
      ]
    },
    {
      "cell_type": "code",
      "execution_count": 36,
      "id": "7c84956c",
      "metadata": {
        "id": "7c84956c"
      },
      "outputs": [],
      "source": [
        "data=pd.read_csv(\"/content/NCI60_X (1).csv\", index_col = 0)"
      ]
    },
    {
      "cell_type": "code",
      "execution_count": 37,
      "id": "c7b9c7fd",
      "metadata": {
        "colab": {
          "base_uri": "https://localhost:8080/",
          "height": 236
        },
        "id": "c7b9c7fd",
        "outputId": "f15f1588-c1b1-4dff-c949-313229749e51"
      },
      "outputs": [
        {
          "output_type": "execute_result",
          "data": {
            "text/plain": [
              "           1         2         3         4         5         6         7  \\\n",
              "V1  0.300000  1.180000  0.550000  1.140000 -0.265000 -0.070000  0.350000   \n",
              "V2  0.679961  1.289961  0.169961  0.379961  0.464961  0.579961  0.699961   \n",
              "V3  0.940000 -0.040000 -0.170000 -0.040000 -0.605000  0.000000  0.090000   \n",
              "\n",
              "           8         9        10  ...      6821      6822      6823      6824  \\\n",
              "V1 -0.315000 -0.450000 -0.654980  ... -0.990020  0.000000  0.030000 -0.175000   \n",
              "V2  0.724961 -0.040039 -0.285019  ... -0.270058 -0.300039 -0.250039 -0.535039   \n",
              "V3  0.645000  0.430000  0.475019  ...  0.319981  0.120000 -0.740000 -0.595000   \n",
              "\n",
              "        6825      6826      6827      6828      6829      6830  \n",
              "V1  0.629981 -0.030000  0.000000  0.280000 -0.340000 -1.930000  \n",
              "V2  0.109941 -0.860039 -1.250049 -0.770039 -0.390039 -2.000039  \n",
              "V3 -0.270020 -0.150000  0.000000 -0.120000 -0.410000  0.000000  \n",
              "\n",
              "[3 rows x 6830 columns]"
            ],
            "text/html": [
              "\n",
              "  <div id=\"df-15874c41-79e6-471c-bab1-d9af452e8bcd\">\n",
              "    <div class=\"colab-df-container\">\n",
              "      <div>\n",
              "<style scoped>\n",
              "    .dataframe tbody tr th:only-of-type {\n",
              "        vertical-align: middle;\n",
              "    }\n",
              "\n",
              "    .dataframe tbody tr th {\n",
              "        vertical-align: top;\n",
              "    }\n",
              "\n",
              "    .dataframe thead th {\n",
              "        text-align: right;\n",
              "    }\n",
              "</style>\n",
              "<table border=\"1\" class=\"dataframe\">\n",
              "  <thead>\n",
              "    <tr style=\"text-align: right;\">\n",
              "      <th></th>\n",
              "      <th>1</th>\n",
              "      <th>2</th>\n",
              "      <th>3</th>\n",
              "      <th>4</th>\n",
              "      <th>5</th>\n",
              "      <th>6</th>\n",
              "      <th>7</th>\n",
              "      <th>8</th>\n",
              "      <th>9</th>\n",
              "      <th>10</th>\n",
              "      <th>...</th>\n",
              "      <th>6821</th>\n",
              "      <th>6822</th>\n",
              "      <th>6823</th>\n",
              "      <th>6824</th>\n",
              "      <th>6825</th>\n",
              "      <th>6826</th>\n",
              "      <th>6827</th>\n",
              "      <th>6828</th>\n",
              "      <th>6829</th>\n",
              "      <th>6830</th>\n",
              "    </tr>\n",
              "  </thead>\n",
              "  <tbody>\n",
              "    <tr>\n",
              "      <th>V1</th>\n",
              "      <td>0.300000</td>\n",
              "      <td>1.180000</td>\n",
              "      <td>0.550000</td>\n",
              "      <td>1.140000</td>\n",
              "      <td>-0.265000</td>\n",
              "      <td>-0.070000</td>\n",
              "      <td>0.350000</td>\n",
              "      <td>-0.315000</td>\n",
              "      <td>-0.450000</td>\n",
              "      <td>-0.654980</td>\n",
              "      <td>...</td>\n",
              "      <td>-0.990020</td>\n",
              "      <td>0.000000</td>\n",
              "      <td>0.030000</td>\n",
              "      <td>-0.175000</td>\n",
              "      <td>0.629981</td>\n",
              "      <td>-0.030000</td>\n",
              "      <td>0.000000</td>\n",
              "      <td>0.280000</td>\n",
              "      <td>-0.340000</td>\n",
              "      <td>-1.930000</td>\n",
              "    </tr>\n",
              "    <tr>\n",
              "      <th>V2</th>\n",
              "      <td>0.679961</td>\n",
              "      <td>1.289961</td>\n",
              "      <td>0.169961</td>\n",
              "      <td>0.379961</td>\n",
              "      <td>0.464961</td>\n",
              "      <td>0.579961</td>\n",
              "      <td>0.699961</td>\n",
              "      <td>0.724961</td>\n",
              "      <td>-0.040039</td>\n",
              "      <td>-0.285019</td>\n",
              "      <td>...</td>\n",
              "      <td>-0.270058</td>\n",
              "      <td>-0.300039</td>\n",
              "      <td>-0.250039</td>\n",
              "      <td>-0.535039</td>\n",
              "      <td>0.109941</td>\n",
              "      <td>-0.860039</td>\n",
              "      <td>-1.250049</td>\n",
              "      <td>-0.770039</td>\n",
              "      <td>-0.390039</td>\n",
              "      <td>-2.000039</td>\n",
              "    </tr>\n",
              "    <tr>\n",
              "      <th>V3</th>\n",
              "      <td>0.940000</td>\n",
              "      <td>-0.040000</td>\n",
              "      <td>-0.170000</td>\n",
              "      <td>-0.040000</td>\n",
              "      <td>-0.605000</td>\n",
              "      <td>0.000000</td>\n",
              "      <td>0.090000</td>\n",
              "      <td>0.645000</td>\n",
              "      <td>0.430000</td>\n",
              "      <td>0.475019</td>\n",
              "      <td>...</td>\n",
              "      <td>0.319981</td>\n",
              "      <td>0.120000</td>\n",
              "      <td>-0.740000</td>\n",
              "      <td>-0.595000</td>\n",
              "      <td>-0.270020</td>\n",
              "      <td>-0.150000</td>\n",
              "      <td>0.000000</td>\n",
              "      <td>-0.120000</td>\n",
              "      <td>-0.410000</td>\n",
              "      <td>0.000000</td>\n",
              "    </tr>\n",
              "  </tbody>\n",
              "</table>\n",
              "<p>3 rows × 6830 columns</p>\n",
              "</div>\n",
              "      <button class=\"colab-df-convert\" onclick=\"convertToInteractive('df-15874c41-79e6-471c-bab1-d9af452e8bcd')\"\n",
              "              title=\"Convert this dataframe to an interactive table.\"\n",
              "              style=\"display:none;\">\n",
              "        \n",
              "  <svg xmlns=\"http://www.w3.org/2000/svg\" height=\"24px\"viewBox=\"0 0 24 24\"\n",
              "       width=\"24px\">\n",
              "    <path d=\"M0 0h24v24H0V0z\" fill=\"none\"/>\n",
              "    <path d=\"M18.56 5.44l.94 2.06.94-2.06 2.06-.94-2.06-.94-.94-2.06-.94 2.06-2.06.94zm-11 1L8.5 8.5l.94-2.06 2.06-.94-2.06-.94L8.5 2.5l-.94 2.06-2.06.94zm10 10l.94 2.06.94-2.06 2.06-.94-2.06-.94-.94-2.06-.94 2.06-2.06.94z\"/><path d=\"M17.41 7.96l-1.37-1.37c-.4-.4-.92-.59-1.43-.59-.52 0-1.04.2-1.43.59L10.3 9.45l-7.72 7.72c-.78.78-.78 2.05 0 2.83L4 21.41c.39.39.9.59 1.41.59.51 0 1.02-.2 1.41-.59l7.78-7.78 2.81-2.81c.8-.78.8-2.07 0-2.86zM5.41 20L4 18.59l7.72-7.72 1.47 1.35L5.41 20z\"/>\n",
              "  </svg>\n",
              "      </button>\n",
              "      \n",
              "  <style>\n",
              "    .colab-df-container {\n",
              "      display:flex;\n",
              "      flex-wrap:wrap;\n",
              "      gap: 12px;\n",
              "    }\n",
              "\n",
              "    .colab-df-convert {\n",
              "      background-color: #E8F0FE;\n",
              "      border: none;\n",
              "      border-radius: 50%;\n",
              "      cursor: pointer;\n",
              "      display: none;\n",
              "      fill: #1967D2;\n",
              "      height: 32px;\n",
              "      padding: 0 0 0 0;\n",
              "      width: 32px;\n",
              "    }\n",
              "\n",
              "    .colab-df-convert:hover {\n",
              "      background-color: #E2EBFA;\n",
              "      box-shadow: 0px 1px 2px rgba(60, 64, 67, 0.3), 0px 1px 3px 1px rgba(60, 64, 67, 0.15);\n",
              "      fill: #174EA6;\n",
              "    }\n",
              "\n",
              "    [theme=dark] .colab-df-convert {\n",
              "      background-color: #3B4455;\n",
              "      fill: #D2E3FC;\n",
              "    }\n",
              "\n",
              "    [theme=dark] .colab-df-convert:hover {\n",
              "      background-color: #434B5C;\n",
              "      box-shadow: 0px 1px 3px 1px rgba(0, 0, 0, 0.15);\n",
              "      filter: drop-shadow(0px 1px 2px rgba(0, 0, 0, 0.3));\n",
              "      fill: #FFFFFF;\n",
              "    }\n",
              "  </style>\n",
              "\n",
              "      <script>\n",
              "        const buttonEl =\n",
              "          document.querySelector('#df-15874c41-79e6-471c-bab1-d9af452e8bcd button.colab-df-convert');\n",
              "        buttonEl.style.display =\n",
              "          google.colab.kernel.accessAllowed ? 'block' : 'none';\n",
              "\n",
              "        async function convertToInteractive(key) {\n",
              "          const element = document.querySelector('#df-15874c41-79e6-471c-bab1-d9af452e8bcd');\n",
              "          const dataTable =\n",
              "            await google.colab.kernel.invokeFunction('convertToInteractive',\n",
              "                                                     [key], {});\n",
              "          if (!dataTable) return;\n",
              "\n",
              "          const docLinkHtml = 'Like what you see? Visit the ' +\n",
              "            '<a target=\"_blank\" href=https://colab.research.google.com/notebooks/data_table.ipynb>data table notebook</a>'\n",
              "            + ' to learn more about interactive tables.';\n",
              "          element.innerHTML = '';\n",
              "          dataTable['output_type'] = 'display_data';\n",
              "          await google.colab.output.renderOutput(dataTable, element);\n",
              "          const docLink = document.createElement('div');\n",
              "          docLink.innerHTML = docLinkHtml;\n",
              "          element.appendChild(docLink);\n",
              "        }\n",
              "      </script>\n",
              "    </div>\n",
              "  </div>\n",
              "  "
            ]
          },
          "metadata": {},
          "execution_count": 37
        }
      ],
      "source": [
        "data.head(3)"
      ]
    },
    {
      "cell_type": "code",
      "execution_count": 38,
      "id": "397a6475",
      "metadata": {
        "colab": {
          "base_uri": "https://localhost:8080/",
          "height": 172
        },
        "id": "397a6475",
        "outputId": "37e0557b-4b98-4c8b-cc49-fd21467b29e7"
      },
      "outputs": [
        {
          "output_type": "execute_result",
          "data": {
            "text/plain": [
              "        1     2     3     4      5             6     7      8     9        10  \\\n",
              "V62  0.21 -0.62 -0.15 -1.33  0.045 -4.000000e-01 -0.39 -0.675 -0.36  0.945020   \n",
              "V63 -0.05  0.14 -0.09 -1.26  0.045 -2.710000e-20  0.42 -0.305  0.31  0.065019   \n",
              "V64  0.35 -0.27  0.02 -1.23 -0.715 -3.400000e-01 -0.52  0.475  0.23  0.915019   \n",
              "\n",
              "     ...     6821  6822  6823   6824      6825  6826     6827  6828  6829  \\\n",
              "V62  ... -0.16002 -0.12  0.85 -0.125  0.779980  0.39  0.00000  0.16  2.03   \n",
              "V63  ...  0.88998 -0.42 -0.46 -0.855 -0.160020 -0.35 -0.36001 -0.49  0.01   \n",
              "V64  ...  1.62998  3.00  2.86  2.145  0.869981  0.48  0.96999  0.29 -0.15   \n",
              "\n",
              "     6830  \n",
              "V62  3.94  \n",
              "V63 -1.72  \n",
              "V64  1.21  \n",
              "\n",
              "[3 rows x 6830 columns]"
            ],
            "text/html": [
              "\n",
              "  <div id=\"df-0c54f791-368c-43ed-ac78-99e9537e3c8c\">\n",
              "    <div class=\"colab-df-container\">\n",
              "      <div>\n",
              "<style scoped>\n",
              "    .dataframe tbody tr th:only-of-type {\n",
              "        vertical-align: middle;\n",
              "    }\n",
              "\n",
              "    .dataframe tbody tr th {\n",
              "        vertical-align: top;\n",
              "    }\n",
              "\n",
              "    .dataframe thead th {\n",
              "        text-align: right;\n",
              "    }\n",
              "</style>\n",
              "<table border=\"1\" class=\"dataframe\">\n",
              "  <thead>\n",
              "    <tr style=\"text-align: right;\">\n",
              "      <th></th>\n",
              "      <th>1</th>\n",
              "      <th>2</th>\n",
              "      <th>3</th>\n",
              "      <th>4</th>\n",
              "      <th>5</th>\n",
              "      <th>6</th>\n",
              "      <th>7</th>\n",
              "      <th>8</th>\n",
              "      <th>9</th>\n",
              "      <th>10</th>\n",
              "      <th>...</th>\n",
              "      <th>6821</th>\n",
              "      <th>6822</th>\n",
              "      <th>6823</th>\n",
              "      <th>6824</th>\n",
              "      <th>6825</th>\n",
              "      <th>6826</th>\n",
              "      <th>6827</th>\n",
              "      <th>6828</th>\n",
              "      <th>6829</th>\n",
              "      <th>6830</th>\n",
              "    </tr>\n",
              "  </thead>\n",
              "  <tbody>\n",
              "    <tr>\n",
              "      <th>V62</th>\n",
              "      <td>0.21</td>\n",
              "      <td>-0.62</td>\n",
              "      <td>-0.15</td>\n",
              "      <td>-1.33</td>\n",
              "      <td>0.045</td>\n",
              "      <td>-4.000000e-01</td>\n",
              "      <td>-0.39</td>\n",
              "      <td>-0.675</td>\n",
              "      <td>-0.36</td>\n",
              "      <td>0.945020</td>\n",
              "      <td>...</td>\n",
              "      <td>-0.16002</td>\n",
              "      <td>-0.12</td>\n",
              "      <td>0.85</td>\n",
              "      <td>-0.125</td>\n",
              "      <td>0.779980</td>\n",
              "      <td>0.39</td>\n",
              "      <td>0.00000</td>\n",
              "      <td>0.16</td>\n",
              "      <td>2.03</td>\n",
              "      <td>3.94</td>\n",
              "    </tr>\n",
              "    <tr>\n",
              "      <th>V63</th>\n",
              "      <td>-0.05</td>\n",
              "      <td>0.14</td>\n",
              "      <td>-0.09</td>\n",
              "      <td>-1.26</td>\n",
              "      <td>0.045</td>\n",
              "      <td>-2.710000e-20</td>\n",
              "      <td>0.42</td>\n",
              "      <td>-0.305</td>\n",
              "      <td>0.31</td>\n",
              "      <td>0.065019</td>\n",
              "      <td>...</td>\n",
              "      <td>0.88998</td>\n",
              "      <td>-0.42</td>\n",
              "      <td>-0.46</td>\n",
              "      <td>-0.855</td>\n",
              "      <td>-0.160020</td>\n",
              "      <td>-0.35</td>\n",
              "      <td>-0.36001</td>\n",
              "      <td>-0.49</td>\n",
              "      <td>0.01</td>\n",
              "      <td>-1.72</td>\n",
              "    </tr>\n",
              "    <tr>\n",
              "      <th>V64</th>\n",
              "      <td>0.35</td>\n",
              "      <td>-0.27</td>\n",
              "      <td>0.02</td>\n",
              "      <td>-1.23</td>\n",
              "      <td>-0.715</td>\n",
              "      <td>-3.400000e-01</td>\n",
              "      <td>-0.52</td>\n",
              "      <td>0.475</td>\n",
              "      <td>0.23</td>\n",
              "      <td>0.915019</td>\n",
              "      <td>...</td>\n",
              "      <td>1.62998</td>\n",
              "      <td>3.00</td>\n",
              "      <td>2.86</td>\n",
              "      <td>2.145</td>\n",
              "      <td>0.869981</td>\n",
              "      <td>0.48</td>\n",
              "      <td>0.96999</td>\n",
              "      <td>0.29</td>\n",
              "      <td>-0.15</td>\n",
              "      <td>1.21</td>\n",
              "    </tr>\n",
              "  </tbody>\n",
              "</table>\n",
              "<p>3 rows × 6830 columns</p>\n",
              "</div>\n",
              "      <button class=\"colab-df-convert\" onclick=\"convertToInteractive('df-0c54f791-368c-43ed-ac78-99e9537e3c8c')\"\n",
              "              title=\"Convert this dataframe to an interactive table.\"\n",
              "              style=\"display:none;\">\n",
              "        \n",
              "  <svg xmlns=\"http://www.w3.org/2000/svg\" height=\"24px\"viewBox=\"0 0 24 24\"\n",
              "       width=\"24px\">\n",
              "    <path d=\"M0 0h24v24H0V0z\" fill=\"none\"/>\n",
              "    <path d=\"M18.56 5.44l.94 2.06.94-2.06 2.06-.94-2.06-.94-.94-2.06-.94 2.06-2.06.94zm-11 1L8.5 8.5l.94-2.06 2.06-.94-2.06-.94L8.5 2.5l-.94 2.06-2.06.94zm10 10l.94 2.06.94-2.06 2.06-.94-2.06-.94-.94-2.06-.94 2.06-2.06.94z\"/><path d=\"M17.41 7.96l-1.37-1.37c-.4-.4-.92-.59-1.43-.59-.52 0-1.04.2-1.43.59L10.3 9.45l-7.72 7.72c-.78.78-.78 2.05 0 2.83L4 21.41c.39.39.9.59 1.41.59.51 0 1.02-.2 1.41-.59l7.78-7.78 2.81-2.81c.8-.78.8-2.07 0-2.86zM5.41 20L4 18.59l7.72-7.72 1.47 1.35L5.41 20z\"/>\n",
              "  </svg>\n",
              "      </button>\n",
              "      \n",
              "  <style>\n",
              "    .colab-df-container {\n",
              "      display:flex;\n",
              "      flex-wrap:wrap;\n",
              "      gap: 12px;\n",
              "    }\n",
              "\n",
              "    .colab-df-convert {\n",
              "      background-color: #E8F0FE;\n",
              "      border: none;\n",
              "      border-radius: 50%;\n",
              "      cursor: pointer;\n",
              "      display: none;\n",
              "      fill: #1967D2;\n",
              "      height: 32px;\n",
              "      padding: 0 0 0 0;\n",
              "      width: 32px;\n",
              "    }\n",
              "\n",
              "    .colab-df-convert:hover {\n",
              "      background-color: #E2EBFA;\n",
              "      box-shadow: 0px 1px 2px rgba(60, 64, 67, 0.3), 0px 1px 3px 1px rgba(60, 64, 67, 0.15);\n",
              "      fill: #174EA6;\n",
              "    }\n",
              "\n",
              "    [theme=dark] .colab-df-convert {\n",
              "      background-color: #3B4455;\n",
              "      fill: #D2E3FC;\n",
              "    }\n",
              "\n",
              "    [theme=dark] .colab-df-convert:hover {\n",
              "      background-color: #434B5C;\n",
              "      box-shadow: 0px 1px 3px 1px rgba(0, 0, 0, 0.15);\n",
              "      filter: drop-shadow(0px 1px 2px rgba(0, 0, 0, 0.3));\n",
              "      fill: #FFFFFF;\n",
              "    }\n",
              "  </style>\n",
              "\n",
              "      <script>\n",
              "        const buttonEl =\n",
              "          document.querySelector('#df-0c54f791-368c-43ed-ac78-99e9537e3c8c button.colab-df-convert');\n",
              "        buttonEl.style.display =\n",
              "          google.colab.kernel.accessAllowed ? 'block' : 'none';\n",
              "\n",
              "        async function convertToInteractive(key) {\n",
              "          const element = document.querySelector('#df-0c54f791-368c-43ed-ac78-99e9537e3c8c');\n",
              "          const dataTable =\n",
              "            await google.colab.kernel.invokeFunction('convertToInteractive',\n",
              "                                                     [key], {});\n",
              "          if (!dataTable) return;\n",
              "\n",
              "          const docLinkHtml = 'Like what you see? Visit the ' +\n",
              "            '<a target=\"_blank\" href=https://colab.research.google.com/notebooks/data_table.ipynb>data table notebook</a>'\n",
              "            + ' to learn more about interactive tables.';\n",
              "          element.innerHTML = '';\n",
              "          dataTable['output_type'] = 'display_data';\n",
              "          await google.colab.output.renderOutput(dataTable, element);\n",
              "          const docLink = document.createElement('div');\n",
              "          docLink.innerHTML = docLinkHtml;\n",
              "          element.appendChild(docLink);\n",
              "        }\n",
              "      </script>\n",
              "    </div>\n",
              "  </div>\n",
              "  "
            ]
          },
          "metadata": {},
          "execution_count": 38
        }
      ],
      "source": [
        "data.tail(3)"
      ]
    },
    {
      "cell_type": "code",
      "execution_count": 39,
      "id": "39be5b13",
      "metadata": {
        "colab": {
          "base_uri": "https://localhost:8080/"
        },
        "id": "39be5b13",
        "outputId": "84a3f062-5825-4533-b1aa-f66af0a094bc"
      },
      "outputs": [
        {
          "output_type": "stream",
          "name": "stdout",
          "text": [
            "<class 'pandas.core.frame.DataFrame'>\n",
            "Index: 64 entries, V1 to V64\n",
            "Columns: 6830 entries, 1 to 6830\n",
            "dtypes: float64(6830)\n",
            "memory usage: 3.3+ MB\n"
          ]
        }
      ],
      "source": [
        "data.info()"
      ]
    },
    {
      "cell_type": "code",
      "execution_count": 40,
      "id": "f192f351",
      "metadata": {
        "colab": {
          "base_uri": "https://localhost:8080/",
          "height": 393
        },
        "id": "f192f351",
        "outputId": "5aab2a73-8433-4d24-c9c4-f2e3d6f2d0f5"
      },
      "outputs": [
        {
          "output_type": "execute_result",
          "data": {
            "text/plain": [
              "               1          2          3          4          5          6  \\\n",
              "count  64.000000  64.000000  64.000000  64.000000  64.000000  64.000000   \n",
              "mean   -0.019063  -0.027813  -0.019923  -0.328673   0.026093   0.006718   \n",
              "std     0.441332   0.757433   0.433306   1.091905   0.485073   0.350432   \n",
              "min    -1.060000  -2.190000  -1.710000  -2.610000  -0.825000  -0.700000   \n",
              "25%    -0.372500  -0.404985  -0.192485  -1.322500  -0.225000  -0.156250   \n",
              "50%     0.000000   0.000000   0.000000   0.000000   0.000000   0.000000   \n",
              "75%     0.310005   0.352500   0.162490   0.692500   0.210000   0.184995   \n",
              "max     0.940000   2.240000   1.150000   1.500000   1.715000   1.160000   \n",
              "\n",
              "               7          8          9         10  ...       6821       6822  \\\n",
              "count  64.000000  64.000000  64.000000  64.000000  ...  64.000000  64.000000   \n",
              "mean    0.019687  -0.023126   0.000780   0.019237  ...  -0.079551   0.402577   \n",
              "std     0.370683   0.338629   0.429188   0.641583  ...   0.890365   1.131769   \n",
              "min    -0.920000  -0.705000  -0.900000  -1.654981  ...  -1.850020  -0.775000   \n",
              "25%    -0.246250  -0.204985  -0.360000  -0.477466  ...  -0.660019  -0.177500   \n",
              "50%     0.000000   0.000000   0.000000   0.000000  ...   0.000000   0.000000   \n",
              "75%     0.247505   0.160015   0.295000   0.467519  ...   0.304980   0.560000   \n",
              "max     0.940000   0.724961   0.990000   1.490019  ...   2.929980   5.200000   \n",
              "\n",
              "            6823       6824       6825       6826       6827       6828  \\\n",
              "count  64.000000  64.000000  64.000000  64.000000  64.000000  64.000000   \n",
              "mean    0.295077   0.171093   0.101152   0.153671   0.090775  -0.126798   \n",
              "std     1.121419   0.888764   0.641122   0.924292   1.209138   0.787136   \n",
              "min    -1.150000  -2.095000  -1.390020  -1.330000  -2.030010  -1.700000   \n",
              "25%    -0.327500  -0.328750  -0.232519  -0.330000  -0.602510  -0.682500   \n",
              "50%     0.000000   0.000000   0.000000   0.000000   0.000000   0.000000   \n",
              "75%     0.422500   0.427500   0.302480   0.325000   0.134995   0.302505   \n",
              "max     5.510000   3.995000   2.899980   4.600000   5.339990   2.560000   \n",
              "\n",
              "            6829       6830  \n",
              "count  64.000000  64.000000  \n",
              "mean    0.129921   0.143514  \n",
              "std     0.566303   1.509312  \n",
              "min    -0.910000  -2.830000  \n",
              "25%    -0.275000  -1.100000  \n",
              "50%     0.000000   0.000000  \n",
              "75%     0.451255   1.250000  \n",
              "max     2.030000   3.940000  \n",
              "\n",
              "[8 rows x 6830 columns]"
            ],
            "text/html": [
              "\n",
              "  <div id=\"df-660ce695-1c6a-4959-9de8-01ce5ddbdbf3\">\n",
              "    <div class=\"colab-df-container\">\n",
              "      <div>\n",
              "<style scoped>\n",
              "    .dataframe tbody tr th:only-of-type {\n",
              "        vertical-align: middle;\n",
              "    }\n",
              "\n",
              "    .dataframe tbody tr th {\n",
              "        vertical-align: top;\n",
              "    }\n",
              "\n",
              "    .dataframe thead th {\n",
              "        text-align: right;\n",
              "    }\n",
              "</style>\n",
              "<table border=\"1\" class=\"dataframe\">\n",
              "  <thead>\n",
              "    <tr style=\"text-align: right;\">\n",
              "      <th></th>\n",
              "      <th>1</th>\n",
              "      <th>2</th>\n",
              "      <th>3</th>\n",
              "      <th>4</th>\n",
              "      <th>5</th>\n",
              "      <th>6</th>\n",
              "      <th>7</th>\n",
              "      <th>8</th>\n",
              "      <th>9</th>\n",
              "      <th>10</th>\n",
              "      <th>...</th>\n",
              "      <th>6821</th>\n",
              "      <th>6822</th>\n",
              "      <th>6823</th>\n",
              "      <th>6824</th>\n",
              "      <th>6825</th>\n",
              "      <th>6826</th>\n",
              "      <th>6827</th>\n",
              "      <th>6828</th>\n",
              "      <th>6829</th>\n",
              "      <th>6830</th>\n",
              "    </tr>\n",
              "  </thead>\n",
              "  <tbody>\n",
              "    <tr>\n",
              "      <th>count</th>\n",
              "      <td>64.000000</td>\n",
              "      <td>64.000000</td>\n",
              "      <td>64.000000</td>\n",
              "      <td>64.000000</td>\n",
              "      <td>64.000000</td>\n",
              "      <td>64.000000</td>\n",
              "      <td>64.000000</td>\n",
              "      <td>64.000000</td>\n",
              "      <td>64.000000</td>\n",
              "      <td>64.000000</td>\n",
              "      <td>...</td>\n",
              "      <td>64.000000</td>\n",
              "      <td>64.000000</td>\n",
              "      <td>64.000000</td>\n",
              "      <td>64.000000</td>\n",
              "      <td>64.000000</td>\n",
              "      <td>64.000000</td>\n",
              "      <td>64.000000</td>\n",
              "      <td>64.000000</td>\n",
              "      <td>64.000000</td>\n",
              "      <td>64.000000</td>\n",
              "    </tr>\n",
              "    <tr>\n",
              "      <th>mean</th>\n",
              "      <td>-0.019063</td>\n",
              "      <td>-0.027813</td>\n",
              "      <td>-0.019923</td>\n",
              "      <td>-0.328673</td>\n",
              "      <td>0.026093</td>\n",
              "      <td>0.006718</td>\n",
              "      <td>0.019687</td>\n",
              "      <td>-0.023126</td>\n",
              "      <td>0.000780</td>\n",
              "      <td>0.019237</td>\n",
              "      <td>...</td>\n",
              "      <td>-0.079551</td>\n",
              "      <td>0.402577</td>\n",
              "      <td>0.295077</td>\n",
              "      <td>0.171093</td>\n",
              "      <td>0.101152</td>\n",
              "      <td>0.153671</td>\n",
              "      <td>0.090775</td>\n",
              "      <td>-0.126798</td>\n",
              "      <td>0.129921</td>\n",
              "      <td>0.143514</td>\n",
              "    </tr>\n",
              "    <tr>\n",
              "      <th>std</th>\n",
              "      <td>0.441332</td>\n",
              "      <td>0.757433</td>\n",
              "      <td>0.433306</td>\n",
              "      <td>1.091905</td>\n",
              "      <td>0.485073</td>\n",
              "      <td>0.350432</td>\n",
              "      <td>0.370683</td>\n",
              "      <td>0.338629</td>\n",
              "      <td>0.429188</td>\n",
              "      <td>0.641583</td>\n",
              "      <td>...</td>\n",
              "      <td>0.890365</td>\n",
              "      <td>1.131769</td>\n",
              "      <td>1.121419</td>\n",
              "      <td>0.888764</td>\n",
              "      <td>0.641122</td>\n",
              "      <td>0.924292</td>\n",
              "      <td>1.209138</td>\n",
              "      <td>0.787136</td>\n",
              "      <td>0.566303</td>\n",
              "      <td>1.509312</td>\n",
              "    </tr>\n",
              "    <tr>\n",
              "      <th>min</th>\n",
              "      <td>-1.060000</td>\n",
              "      <td>-2.190000</td>\n",
              "      <td>-1.710000</td>\n",
              "      <td>-2.610000</td>\n",
              "      <td>-0.825000</td>\n",
              "      <td>-0.700000</td>\n",
              "      <td>-0.920000</td>\n",
              "      <td>-0.705000</td>\n",
              "      <td>-0.900000</td>\n",
              "      <td>-1.654981</td>\n",
              "      <td>...</td>\n",
              "      <td>-1.850020</td>\n",
              "      <td>-0.775000</td>\n",
              "      <td>-1.150000</td>\n",
              "      <td>-2.095000</td>\n",
              "      <td>-1.390020</td>\n",
              "      <td>-1.330000</td>\n",
              "      <td>-2.030010</td>\n",
              "      <td>-1.700000</td>\n",
              "      <td>-0.910000</td>\n",
              "      <td>-2.830000</td>\n",
              "    </tr>\n",
              "    <tr>\n",
              "      <th>25%</th>\n",
              "      <td>-0.372500</td>\n",
              "      <td>-0.404985</td>\n",
              "      <td>-0.192485</td>\n",
              "      <td>-1.322500</td>\n",
              "      <td>-0.225000</td>\n",
              "      <td>-0.156250</td>\n",
              "      <td>-0.246250</td>\n",
              "      <td>-0.204985</td>\n",
              "      <td>-0.360000</td>\n",
              "      <td>-0.477466</td>\n",
              "      <td>...</td>\n",
              "      <td>-0.660019</td>\n",
              "      <td>-0.177500</td>\n",
              "      <td>-0.327500</td>\n",
              "      <td>-0.328750</td>\n",
              "      <td>-0.232519</td>\n",
              "      <td>-0.330000</td>\n",
              "      <td>-0.602510</td>\n",
              "      <td>-0.682500</td>\n",
              "      <td>-0.275000</td>\n",
              "      <td>-1.100000</td>\n",
              "    </tr>\n",
              "    <tr>\n",
              "      <th>50%</th>\n",
              "      <td>0.000000</td>\n",
              "      <td>0.000000</td>\n",
              "      <td>0.000000</td>\n",
              "      <td>0.000000</td>\n",
              "      <td>0.000000</td>\n",
              "      <td>0.000000</td>\n",
              "      <td>0.000000</td>\n",
              "      <td>0.000000</td>\n",
              "      <td>0.000000</td>\n",
              "      <td>0.000000</td>\n",
              "      <td>...</td>\n",
              "      <td>0.000000</td>\n",
              "      <td>0.000000</td>\n",
              "      <td>0.000000</td>\n",
              "      <td>0.000000</td>\n",
              "      <td>0.000000</td>\n",
              "      <td>0.000000</td>\n",
              "      <td>0.000000</td>\n",
              "      <td>0.000000</td>\n",
              "      <td>0.000000</td>\n",
              "      <td>0.000000</td>\n",
              "    </tr>\n",
              "    <tr>\n",
              "      <th>75%</th>\n",
              "      <td>0.310005</td>\n",
              "      <td>0.352500</td>\n",
              "      <td>0.162490</td>\n",
              "      <td>0.692500</td>\n",
              "      <td>0.210000</td>\n",
              "      <td>0.184995</td>\n",
              "      <td>0.247505</td>\n",
              "      <td>0.160015</td>\n",
              "      <td>0.295000</td>\n",
              "      <td>0.467519</td>\n",
              "      <td>...</td>\n",
              "      <td>0.304980</td>\n",
              "      <td>0.560000</td>\n",
              "      <td>0.422500</td>\n",
              "      <td>0.427500</td>\n",
              "      <td>0.302480</td>\n",
              "      <td>0.325000</td>\n",
              "      <td>0.134995</td>\n",
              "      <td>0.302505</td>\n",
              "      <td>0.451255</td>\n",
              "      <td>1.250000</td>\n",
              "    </tr>\n",
              "    <tr>\n",
              "      <th>max</th>\n",
              "      <td>0.940000</td>\n",
              "      <td>2.240000</td>\n",
              "      <td>1.150000</td>\n",
              "      <td>1.500000</td>\n",
              "      <td>1.715000</td>\n",
              "      <td>1.160000</td>\n",
              "      <td>0.940000</td>\n",
              "      <td>0.724961</td>\n",
              "      <td>0.990000</td>\n",
              "      <td>1.490019</td>\n",
              "      <td>...</td>\n",
              "      <td>2.929980</td>\n",
              "      <td>5.200000</td>\n",
              "      <td>5.510000</td>\n",
              "      <td>3.995000</td>\n",
              "      <td>2.899980</td>\n",
              "      <td>4.600000</td>\n",
              "      <td>5.339990</td>\n",
              "      <td>2.560000</td>\n",
              "      <td>2.030000</td>\n",
              "      <td>3.940000</td>\n",
              "    </tr>\n",
              "  </tbody>\n",
              "</table>\n",
              "<p>8 rows × 6830 columns</p>\n",
              "</div>\n",
              "      <button class=\"colab-df-convert\" onclick=\"convertToInteractive('df-660ce695-1c6a-4959-9de8-01ce5ddbdbf3')\"\n",
              "              title=\"Convert this dataframe to an interactive table.\"\n",
              "              style=\"display:none;\">\n",
              "        \n",
              "  <svg xmlns=\"http://www.w3.org/2000/svg\" height=\"24px\"viewBox=\"0 0 24 24\"\n",
              "       width=\"24px\">\n",
              "    <path d=\"M0 0h24v24H0V0z\" fill=\"none\"/>\n",
              "    <path d=\"M18.56 5.44l.94 2.06.94-2.06 2.06-.94-2.06-.94-.94-2.06-.94 2.06-2.06.94zm-11 1L8.5 8.5l.94-2.06 2.06-.94-2.06-.94L8.5 2.5l-.94 2.06-2.06.94zm10 10l.94 2.06.94-2.06 2.06-.94-2.06-.94-.94-2.06-.94 2.06-2.06.94z\"/><path d=\"M17.41 7.96l-1.37-1.37c-.4-.4-.92-.59-1.43-.59-.52 0-1.04.2-1.43.59L10.3 9.45l-7.72 7.72c-.78.78-.78 2.05 0 2.83L4 21.41c.39.39.9.59 1.41.59.51 0 1.02-.2 1.41-.59l7.78-7.78 2.81-2.81c.8-.78.8-2.07 0-2.86zM5.41 20L4 18.59l7.72-7.72 1.47 1.35L5.41 20z\"/>\n",
              "  </svg>\n",
              "      </button>\n",
              "      \n",
              "  <style>\n",
              "    .colab-df-container {\n",
              "      display:flex;\n",
              "      flex-wrap:wrap;\n",
              "      gap: 12px;\n",
              "    }\n",
              "\n",
              "    .colab-df-convert {\n",
              "      background-color: #E8F0FE;\n",
              "      border: none;\n",
              "      border-radius: 50%;\n",
              "      cursor: pointer;\n",
              "      display: none;\n",
              "      fill: #1967D2;\n",
              "      height: 32px;\n",
              "      padding: 0 0 0 0;\n",
              "      width: 32px;\n",
              "    }\n",
              "\n",
              "    .colab-df-convert:hover {\n",
              "      background-color: #E2EBFA;\n",
              "      box-shadow: 0px 1px 2px rgba(60, 64, 67, 0.3), 0px 1px 3px 1px rgba(60, 64, 67, 0.15);\n",
              "      fill: #174EA6;\n",
              "    }\n",
              "\n",
              "    [theme=dark] .colab-df-convert {\n",
              "      background-color: #3B4455;\n",
              "      fill: #D2E3FC;\n",
              "    }\n",
              "\n",
              "    [theme=dark] .colab-df-convert:hover {\n",
              "      background-color: #434B5C;\n",
              "      box-shadow: 0px 1px 3px 1px rgba(0, 0, 0, 0.15);\n",
              "      filter: drop-shadow(0px 1px 2px rgba(0, 0, 0, 0.3));\n",
              "      fill: #FFFFFF;\n",
              "    }\n",
              "  </style>\n",
              "\n",
              "      <script>\n",
              "        const buttonEl =\n",
              "          document.querySelector('#df-660ce695-1c6a-4959-9de8-01ce5ddbdbf3 button.colab-df-convert');\n",
              "        buttonEl.style.display =\n",
              "          google.colab.kernel.accessAllowed ? 'block' : 'none';\n",
              "\n",
              "        async function convertToInteractive(key) {\n",
              "          const element = document.querySelector('#df-660ce695-1c6a-4959-9de8-01ce5ddbdbf3');\n",
              "          const dataTable =\n",
              "            await google.colab.kernel.invokeFunction('convertToInteractive',\n",
              "                                                     [key], {});\n",
              "          if (!dataTable) return;\n",
              "\n",
              "          const docLinkHtml = 'Like what you see? Visit the ' +\n",
              "            '<a target=\"_blank\" href=https://colab.research.google.com/notebooks/data_table.ipynb>data table notebook</a>'\n",
              "            + ' to learn more about interactive tables.';\n",
              "          element.innerHTML = '';\n",
              "          dataTable['output_type'] = 'display_data';\n",
              "          await google.colab.output.renderOutput(dataTable, element);\n",
              "          const docLink = document.createElement('div');\n",
              "          docLink.innerHTML = docLinkHtml;\n",
              "          element.appendChild(docLink);\n",
              "        }\n",
              "      </script>\n",
              "    </div>\n",
              "  </div>\n",
              "  "
            ]
          },
          "metadata": {},
          "execution_count": 40
        }
      ],
      "source": [
        "data.describe()"
      ]
    },
    {
      "cell_type": "code",
      "execution_count": 41,
      "id": "d3e78c0a",
      "metadata": {
        "colab": {
          "base_uri": "https://localhost:8080/",
          "height": 265
        },
        "id": "d3e78c0a",
        "outputId": "0c4dbf4a-a4a2-4da9-b340-0675003763dd"
      },
      "outputs": [
        {
          "output_type": "display_data",
          "data": {
            "text/plain": [
              "<Figure size 432x288 with 1 Axes>"
            ],
            "image/png": "[encoded data removed]"
          },
          "metadata": {
            "needs_background": "light"
          }
        }
      ],
      "source": [
        "plt.hist(data['2'])\n",
        "plt.show()"
      ]
    },
    {
      "cell_type": "code",
      "execution_count": 42,
      "id": "bed8466e",
      "metadata": {
        "colab": {
          "base_uri": "https://localhost:8080/",
          "height": 265
        },
        "id": "bed8466e",
        "outputId": "e8994fbc-91a1-4a00-f01a-0c8d9799fdc9"
      },
      "outputs": [
        {
          "output_type": "display_data",
          "data": {
            "text/plain": [
              "<Figure size 432x288 with 1 Axes>"
            ],
            "image/png": "[encoded data removed]"
          },
          "metadata": {
            "needs_background": "light"
          }
        }
      ],
      "source": [
        "plt.hist(data['3'])\n",
        "plt.show()"
      ]
    },
    {
      "cell_type": "code",
      "execution_count": 43,
      "id": "5f496dde",
      "metadata": {
        "colab": {
          "base_uri": "https://localhost:8080/",
          "height": 265
        },
        "id": "5f496dde",
        "outputId": "580096c2-970d-4dc0-d890-d7501b3f9690"
      },
      "outputs": [
        {
          "output_type": "display_data",
          "data": {
            "text/plain": [
              "<Figure size 432x288 with 1 Axes>"
            ],
            "image/png": "[encoded data removed]"
          },
          "metadata": {
            "needs_background": "light"
          }
        }
      ],
      "source": [
        "plt.boxplot(data['4'])\n",
        "plt.show()"
      ]
    },
    {
      "cell_type": "code",
      "execution_count": 44,
      "id": "e889c6ac",
      "metadata": {
        "colab": {
          "base_uri": "https://localhost:8080/",
          "height": 252
        },
        "id": "e889c6ac",
        "outputId": "32ee7e4a-c4e0-49f4-b86a-6dd84e5f6eab"
      },
      "outputs": [
        {
          "output_type": "display_data",
          "data": {
            "text/plain": [
              "<Figure size 432x288 with 1 Axes>"
            ],
            "image/png": "[encoded data removed]"
          },
          "metadata": {
            "needs_background": "light"
          }
        }
      ],
      "source": [
        "sns.boxplot(y = data['5'])\n",
        "plt.show()"
      ]
    },
    {
      "cell_type": "code",
      "execution_count": 47,
      "id": "528312a3",
      "metadata": {
        "id": "528312a3",
        "outputId": "ddced049-4431-45a4-ba22-440736b18c01",
        "colab": {
          "base_uri": "https://localhost:8080/"
        }
      },
      "outputs": [
        {
          "output_type": "execute_result",
          "data": {
            "text/plain": [
              "1       0\n",
              "2       0\n",
              "3       0\n",
              "4       0\n",
              "5       0\n",
              "       ..\n",
              "6826    0\n",
              "6827    0\n",
              "6828    0\n",
              "6829    0\n",
              "6830    0\n",
              "Length: 6830, dtype: int64"
            ]
          },
          "metadata": {},
          "execution_count": 47
        }
      ],
      "source": [
        "data.isna().sum()"
      ]
    },
    {
      "cell_type": "code",
      "execution_count": 48,
      "id": "1ec766ac",
      "metadata": {
        "id": "1ec766ac"
      },
      "outputs": [],
      "source": [
        "x = data"
      ]
    },
    {
      "cell_type": "code",
      "execution_count": 49,
      "id": "af289ad9",
      "metadata": {
        "id": "af289ad9"
      },
      "outputs": [],
      "source": [
        "from sklearn.cluster import KMeans"
      ]
    },
    {
      "cell_type": "code",
      "execution_count": 50,
      "id": "cacd14c2",
      "metadata": {
        "id": "cacd14c2"
      },
      "outputs": [],
      "source": [
        "kmean_inst = KMeans(n_clusters=6)"
      ]
    },
    {
      "cell_type": "code",
      "execution_count": 51,
      "id": "11e2aa06",
      "metadata": {
        "id": "11e2aa06",
        "outputId": "ab09e95c-4b18-42eb-a8cb-98f041f8d768",
        "colab": {
          "base_uri": "https://localhost:8080/",
          "height": 130
        }
      },
      "outputs": [
        {
          "output_type": "stream",
          "name": "stderr",
          "text": [
            "/usr/local/lib/python3.9/dist-packages/sklearn/cluster/_kmeans.py:870: FutureWarning: The default value of `n_init` will change from 10 to 'auto' in 1.4. Set the value of `n_init` explicitly to suppress the warning\n",
            "  warnings.warn(\n"
          ]
        },
        {
          "output_type": "execute_result",
          "data": {
            "text/plain": [
              "KMeans(n_clusters=6)"
            ],
            "text/html": [
              "<style>#sk-container-id-1 {color: black;background-color: white;}#sk-container-id-1 pre{padding: 0;}#sk-container-id-1 div.sk-toggleable {background-color: white;}#sk-container-id-1 label.sk-toggleable__label {cursor: pointer;display: block;width: 100%;margin-bottom: 0;padding: 0.3em;box-sizing: border-box;text-align: center;}#sk-container-id-1 label.sk-toggleable__label-arrow:before {content: \"▸\";float: left;margin-right: 0.25em;color: #696969;}#sk-container-id-1 label.sk-toggleable__label-arrow:hover:before {color: black;}#sk-container-id-1 div.sk-estimator:hover label.sk-toggleable__label-arrow:before {color: black;}#sk-container-id-1 div.sk-toggleable__content {max-height: 0;max-width: 0;overflow: hidden;text-align: left;background-color: #f0f8ff;}#sk-container-id-1 div.sk-toggleable__content pre {margin: 0.2em;color: black;border-radius: 0.25em;background-color: #f0f8ff;}#sk-container-id-1 input.sk-toggleable__control:checked~div.sk-toggleable__content {max-height: 200px;max-width: 100%;overflow: auto;}#sk-container-id-1 input.sk-toggleable__control:checked~label.sk-toggleable__label-arrow:before {content: \"▾\";}#sk-container-id-1 div.sk-estimator input.sk-toggleable__control:checked~label.sk-toggleable__label {background-color: #d4ebff;}#sk-container-id-1 div.sk-label input.sk-toggleable__control:checked~label.sk-toggleable__label {background-color: #d4ebff;}#sk-container-id-1 input.sk-hidden--visually {border: 0;clip: rect(1px 1px 1px 1px);clip: rect(1px, 1px, 1px, 1px);height: 1px;margin: -1px;overflow: hidden;padding: 0;position: absolute;width: 1px;}#sk-container-id-1 div.sk-estimator {font-family: monospace;background-color: #f0f8ff;border: 1px dotted black;border-radius: 0.25em;box-sizing: border-box;margin-bottom: 0.5em;}#sk-container-id-1 div.sk-estimator:hover {background-color: #d4ebff;}#sk-container-id-1 div.sk-parallel-item::after {content: \"\";width: 100%;border-bottom: 1px solid gray;flex-grow: 1;}#sk-container-id-1 div.sk-label:hover label.sk-toggleable__label {background-color: #d4ebff;}#sk-container-id-1 div.sk-serial::before {content: \"\";position: absolute;border-left: 1px solid gray;box-sizing: border-box;top: 0;bottom: 0;left: 50%;z-index: 0;}#sk-container-id-1 div.sk-serial {display: flex;flex-direction: column;align-items: center;background-color: white;padding-right: 0.2em;padding-left: 0.2em;position: relative;}#sk-container-id-1 div.sk-item {position: relative;z-index: 1;}#sk-container-id-1 div.sk-parallel {display: flex;align-items: stretch;justify-content: center;background-color: white;position: relative;}#sk-container-id-1 div.sk-item::before, #sk-container-id-1 div.sk-parallel-item::before {content: \"\";position: absolute;border-left: 1px solid gray;box-sizing: border-box;top: 0;bottom: 0;left: 50%;z-index: -1;}#sk-container-id-1 div.sk-parallel-item {display: flex;flex-direction: column;z-index: 1;position: relative;background-color: white;}#sk-container-id-1 div.sk-parallel-item:first-child::after {align-self: flex-end;width: 50%;}#sk-container-id-1 div.sk-parallel-item:last-child::after {align-self: flex-start;width: 50%;}#sk-container-id-1 div.sk-parallel-item:only-child::after {width: 0;}#sk-container-id-1 div.sk-dashed-wrapped {border: 1px dashed gray;margin: 0 0.4em 0.5em 0.4em;box-sizing: border-box;padding-bottom: 0.4em;background-color: white;}#sk-container-id-1 div.sk-label label {font-family: monospace;font-weight: bold;display: inline-block;line-height: 1.2em;}#sk-container-id-1 div.sk-label-container {text-align: center;}#sk-container-id-1 div.sk-container {/* jupyter's `normalize.less` sets `[hidden] { display: none; }` but bootstrap.min.css set `[hidden] { display: none !important; }` so we also need the `!important` here to be able to override the default hidden behavior on the sphinx rendered scikit-learn.org. See: https://github.com/scikit-learn/scikit-learn/issues/21755 */display: inline-block !important;position: relative;}#sk-container-id-1 div.sk-text-repr-fallback {display: none;}</style><div id=\"sk-container-id-1\" class=\"sk-top-container\"><div class=\"sk-text-repr-fallback\"><pre>KMeans(n_clusters=6)</pre><b>In a Jupyter environment, please rerun this cell to show the HTML representation or trust the notebook. <br />On GitHub, the HTML representation is unable to render, please try loading this page with nbviewer.org.</b></div><div class=\"sk-container\" hidden><div class=\"sk-item\"><div class=\"sk-estimator sk-toggleable\"><input class=\"sk-toggleable__control sk-hidden--visually\" id=\"sk-estimator-id-1\" type=\"checkbox\" checked><label for=\"sk-estimator-id-1\" class=\"sk-toggleable__label sk-toggleable__label-arrow\">KMeans</label><div class=\"sk-toggleable__content\"><pre>KMeans(n_clusters=6)</pre></div></div></div></div></div>"
            ]
          },
          "metadata": {},
          "execution_count": 51
        }
      ],
      "source": [
        "kmean_inst.fit(x)"
      ]
    },
    {
      "cell_type": "code",
      "execution_count": 52,
      "id": "9ae60ec1",
      "metadata": {
        "id": "9ae60ec1",
        "outputId": "c6b7bbd9-4fed-4290-eb7d-c4f10015cd7b",
        "colab": {
          "base_uri": "https://localhost:8080/"
        }
      },
      "outputs": [
        {
          "output_type": "execute_result",
          "data": {
            "text/plain": [
              "182324.52231247607"
            ]
          },
          "metadata": {},
          "execution_count": 52
        }
      ],
      "source": [
        "kmean_inst.inertia_"
      ]
    },
    {
      "cell_type": "code",
      "execution_count": 53,
      "id": "41411f76",
      "metadata": {
        "id": "41411f76",
        "outputId": "8aa9d9be-15aa-4ce6-be98-e434ee6f1b35",
        "colab": {
          "base_uri": "https://localhost:8080/"
        }
      },
      "outputs": [
        {
          "output_type": "execute_result",
          "data": {
            "text/plain": [
              "array([[ 0.10392718,  0.05607004,  0.01160575, ..., -0.13982282,\n",
              "        -0.10267996, -0.61982282],\n",
              "       [-0.05332683, -0.46332667,  0.07000651, ..., -1.27332683,\n",
              "        -0.05666017,  0.        ],\n",
              "       [-0.39333333, -0.32      , -0.73666667, ..., -0.51666667,\n",
              "         0.01333333, -0.88666667],\n",
              "       [-0.01000217, -0.09000217,  0.05110894, ..., -0.55666883,\n",
              "         0.08444228,  0.37666444],\n",
              "       [-0.21294232, -0.06529412, -0.12882468, ...,  0.24470474,\n",
              "         0.43176356,  1.08352829],\n",
              "       [ 0.23      ,  0.23      ,  0.5325    , ...,  0.505     ,\n",
              "         0.80499988,  1.8475    ]])"
            ]
          },
          "metadata": {},
          "execution_count": 53
        }
      ],
      "source": [
        "kmean_inst.cluster_centers_"
      ]
    },
    {
      "cell_type": "code",
      "execution_count": 54,
      "id": "458928e4",
      "metadata": {
        "id": "458928e4",
        "outputId": "69cc15b5-077b-4f63-93a0-3dadd3e17d6d",
        "colab": {
          "base_uri": "https://localhost:8080/"
        }
      },
      "outputs": [
        {
          "output_type": "execute_result",
          "data": {
            "text/plain": [
              "array([0, 0, 0, 0, 0, 0, 0, 0, 0, 0, 0, 0, 0, 0, 0, 0, 0, 0, 0, 0, 0, 0,\n",
              "       0, 4, 4, 0, 4, 0, 4, 4, 0, 0, 0, 4, 1, 1, 1, 2, 2, 2, 4, 4, 4, 4,\n",
              "       4, 4, 4, 4, 5, 5, 5, 5, 4, 4, 4, 3, 3, 3, 3, 3, 3, 3, 3, 3],\n",
              "      dtype=int32)"
            ]
          },
          "metadata": {},
          "execution_count": 54
        }
      ],
      "source": [
        "kmean_inst.labels_"
      ]
    },
    {
      "cell_type": "code",
      "execution_count": 58,
      "id": "10b6f279",
      "metadata": {
        "id": "10b6f279"
      },
      "outputs": [],
      "source": [
        "from sklearn.decomposition import PCA"
      ]
    },
    {
      "cell_type": "code",
      "execution_count": 59,
      "id": "96bb24a7",
      "metadata": {
        "id": "96bb24a7"
      },
      "outputs": [],
      "source": [
        "pc = PCA()"
      ]
    },
    {
      "cell_type": "code",
      "execution_count": 60,
      "id": "4f076d64",
      "metadata": {
        "id": "4f076d64"
      },
      "outputs": [],
      "source": [
        "pc_arr = pc.fit_transform(data)"
      ]
    },
    {
      "cell_type": "code",
      "execution_count": 61,
      "id": "dcbf08df",
      "metadata": {
        "id": "dcbf08df",
        "outputId": "d7563e1f-90a8-48ea-b803-dff52985ebe2",
        "colab": {
          "base_uri": "https://localhost:8080/"
        }
      },
      "outputs": [
        {
          "output_type": "execute_result",
          "data": {
            "text/plain": [
              "(64, 64)"
            ]
          },
          "metadata": {},
          "execution_count": 61
        }
      ],
      "source": [
        "pc_arr.shape"
      ]
    },
    {
      "cell_type": "code",
      "execution_count": 62,
      "id": "ead8f044",
      "metadata": {
        "id": "ead8f044"
      },
      "outputs": [],
      "source": [
        "pc_data = pd.DataFrame(pc_arr)"
      ]
    },
    {
      "cell_type": "code",
      "execution_count": 63,
      "id": "609f8e2e",
      "metadata": {
        "id": "609f8e2e",
        "outputId": "769396f0-70ce-419a-81c0-d47d370d6813",
        "colab": {
          "base_uri": "https://localhost:8080/"
        }
      },
      "outputs": [
        {
          "output_type": "execute_result",
          "data": {
            "text/plain": [
              "array([14.9,  8.3,  6.6,  4.3,  3.8,  3.5,  2.9,  2.8,  2.6,  2.2,  2.1,\n",
              "        2. ,  1.8,  1.8,  1.7,  1.6,  1.6,  1.5,  1.4,  1.4,  1.4,  1.3,\n",
              "        1.3,  1.2,  1.2,  1.1,  1.1,  1. ,  1. ,  1. ,  1. ,  0.9,  0.9,\n",
              "        0.9,  0.8,  0.8,  0.8,  0.8,  0.8,  0.7,  0.7,  0.7,  0.7,  0.7,\n",
              "        0.7,  0.6,  0.6,  0.6,  0.5,  0.5,  0.5,  0.5,  0.5,  0.5,  0.4,\n",
              "        0.4,  0.4,  0.4,  0.3,  0.3,  0.2,  0.2,  0.2,  0. ])"
            ]
          },
          "metadata": {},
          "execution_count": 63
        }
      ],
      "source": [
        "(pc.explained_variance_ratio_ * 100).round(1)"
      ]
    },
    {
      "cell_type": "code",
      "execution_count": 64,
      "id": "a5481c16",
      "metadata": {
        "id": "a5481c16",
        "outputId": "8fd6b12f-b1c4-42ec-9760-20ed93d65fb2",
        "colab": {
          "base_uri": "https://localhost:8080/",
          "height": 423
        }
      },
      "outputs": [
        {
          "output_type": "execute_result",
          "data": {
            "text/plain": [
              "     0    1    2    3    4    5    6    7    8    9   ...   54   55   56   57  \\\n",
              "0   1.0  0.0  0.0  0.0  0.0  0.0 -0.0  0.0 -0.0 -0.0  ... -0.0  0.0 -0.0 -0.0   \n",
              "1   0.0  1.0 -0.0  0.0  0.0  0.0 -0.0  0.0  0.0  0.0  ... -0.0 -0.0  0.0 -0.0   \n",
              "2   0.0 -0.0  1.0  0.0 -0.0 -0.0  0.0 -0.0  0.0  0.0  ... -0.0  0.0 -0.0  0.0   \n",
              "3   0.0  0.0  0.0  1.0 -0.0 -0.0  0.0 -0.0 -0.0 -0.0  ...  0.0 -0.0  0.0  0.0   \n",
              "4   0.0  0.0 -0.0 -0.0  1.0 -0.0  0.0  0.0 -0.0  0.0  ...  0.0  0.0 -0.0 -0.0   \n",
              "..  ...  ...  ...  ...  ...  ...  ...  ...  ...  ...  ...  ...  ...  ...  ...   \n",
              "59  0.0  0.0 -0.0 -0.0 -0.0  0.0  0.0 -0.0 -0.0 -0.0  ...  0.0  0.0 -0.0 -0.0   \n",
              "60  0.0  0.0 -0.0 -0.0  0.0 -0.0  0.0  0.0 -0.0  0.0  ...  0.0 -0.0 -0.0 -0.0   \n",
              "61  0.0  0.0  0.0  0.0  0.0  0.0 -0.0 -0.0  0.0 -0.0  ... -0.0 -0.0  0.0 -0.0   \n",
              "62 -0.0 -0.0 -0.0  0.0 -0.0  0.0  0.0  0.0  0.0 -0.0  ... -0.0 -0.0  0.0  0.0   \n",
              "63  0.0 -0.0  0.0 -0.0 -0.0 -0.0  0.0 -0.0 -0.0 -0.0  ... -0.0  0.0  0.0 -0.0   \n",
              "\n",
              "     58   59   60   61   62   63  \n",
              "0  -0.0  0.0  0.0  0.0 -0.0  0.0  \n",
              "1  -0.0  0.0  0.0  0.0 -0.0 -0.0  \n",
              "2  -0.0 -0.0 -0.0  0.0 -0.0  0.0  \n",
              "3   0.0 -0.0 -0.0  0.0  0.0 -0.0  \n",
              "4  -0.0 -0.0  0.0  0.0 -0.0 -0.0  \n",
              "..  ...  ...  ...  ...  ...  ...  \n",
              "59  0.0  1.0  0.0  0.0 -0.0 -0.0  \n",
              "60  0.0  0.0  1.0 -0.0  0.0 -0.0  \n",
              "61  0.0  0.0 -0.0  1.0 -0.0  0.0  \n",
              "62  0.0 -0.0  0.0 -0.0  1.0 -0.0  \n",
              "63  0.0 -0.0 -0.0  0.0 -0.0  1.0  \n",
              "\n",
              "[64 rows x 64 columns]"
            ],
            "text/html": [
              "\n",
              "  <div id=\"df-d2c018d9-ab86-4c9c-96d5-d8994e881ed9\">\n",
              "    <div class=\"colab-df-container\">\n",
              "      <div>\n",
              "<style scoped>\n",
              "    .dataframe tbody tr th:only-of-type {\n",
              "        vertical-align: middle;\n",
              "    }\n",
              "\n",
              "    .dataframe tbody tr th {\n",
              "        vertical-align: top;\n",
              "    }\n",
              "\n",
              "    .dataframe thead th {\n",
              "        text-align: right;\n",
              "    }\n",
              "</style>\n",
              "<table border=\"1\" class=\"dataframe\">\n",
              "  <thead>\n",
              "    <tr style=\"text-align: right;\">\n",
              "      <th></th>\n",
              "      <th>0</th>\n",
              "      <th>1</th>\n",
              "      <th>2</th>\n",
              "      <th>3</th>\n",
              "      <th>4</th>\n",
              "      <th>5</th>\n",
              "      <th>6</th>\n",
              "      <th>7</th>\n",
              "      <th>8</th>\n",
              "      <th>9</th>\n",
              "      <th>...</th>\n",
              "      <th>54</th>\n",
              "      <th>55</th>\n",
              "      <th>56</th>\n",
              "      <th>57</th>\n",
              "      <th>58</th>\n",
              "      <th>59</th>\n",
              "      <th>60</th>\n",
              "      <th>61</th>\n",
              "      <th>62</th>\n",
              "      <th>63</th>\n",
              "    </tr>\n",
              "  </thead>\n",
              "  <tbody>\n",
              "    <tr>\n",
              "      <th>0</th>\n",
              "      <td>1.0</td>\n",
              "      <td>0.0</td>\n",
              "      <td>0.0</td>\n",
              "      <td>0.0</td>\n",
              "      <td>0.0</td>\n",
              "      <td>0.0</td>\n",
              "      <td>-0.0</td>\n",
              "      <td>0.0</td>\n",
              "      <td>-0.0</td>\n",
              "      <td>-0.0</td>\n",
              "      <td>...</td>\n",
              "      <td>-0.0</td>\n",
              "      <td>0.0</td>\n",
              "      <td>-0.0</td>\n",
              "      <td>-0.0</td>\n",
              "      <td>-0.0</td>\n",
              "      <td>0.0</td>\n",
              "      <td>0.0</td>\n",
              "      <td>0.0</td>\n",
              "      <td>-0.0</td>\n",
              "      <td>0.0</td>\n",
              "    </tr>\n",
              "    <tr>\n",
              "      <th>1</th>\n",
              "      <td>0.0</td>\n",
              "      <td>1.0</td>\n",
              "      <td>-0.0</td>\n",
              "      <td>0.0</td>\n",
              "      <td>0.0</td>\n",
              "      <td>0.0</td>\n",
              "      <td>-0.0</td>\n",
              "      <td>0.0</td>\n",
              "      <td>0.0</td>\n",
              "      <td>0.0</td>\n",
              "      <td>...</td>\n",
              "      <td>-0.0</td>\n",
              "      <td>-0.0</td>\n",
              "      <td>0.0</td>\n",
              "      <td>-0.0</td>\n",
              "      <td>-0.0</td>\n",
              "      <td>0.0</td>\n",
              "      <td>0.0</td>\n",
              "      <td>0.0</td>\n",
              "      <td>-0.0</td>\n",
              "      <td>-0.0</td>\n",
              "    </tr>\n",
              "    <tr>\n",
              "      <th>2</th>\n",
              "      <td>0.0</td>\n",
              "      <td>-0.0</td>\n",
              "      <td>1.0</td>\n",
              "      <td>0.0</td>\n",
              "      <td>-0.0</td>\n",
              "      <td>-0.0</td>\n",
              "      <td>0.0</td>\n",
              "      <td>-0.0</td>\n",
              "      <td>0.0</td>\n",
              "      <td>0.0</td>\n",
              "      <td>...</td>\n",
              "      <td>-0.0</td>\n",
              "      <td>0.0</td>\n",
              "      <td>-0.0</td>\n",
              "      <td>0.0</td>\n",
              "      <td>-0.0</td>\n",
              "      <td>-0.0</td>\n",
              "      <td>-0.0</td>\n",
              "      <td>0.0</td>\n",
              "      <td>-0.0</td>\n",
              "      <td>0.0</td>\n",
              "    </tr>\n",
              "    <tr>\n",
              "      <th>3</th>\n",
              "      <td>0.0</td>\n",
              "      <td>0.0</td>\n",
              "      <td>0.0</td>\n",
              "      <td>1.0</td>\n",
              "      <td>-0.0</td>\n",
              "      <td>-0.0</td>\n",
              "      <td>0.0</td>\n",
              "      <td>-0.0</td>\n",
              "      <td>-0.0</td>\n",
              "      <td>-0.0</td>\n",
              "      <td>...</td>\n",
              "      <td>0.0</td>\n",
              "      <td>-0.0</td>\n",
              "      <td>0.0</td>\n",
              "      <td>0.0</td>\n",
              "      <td>0.0</td>\n",
              "      <td>-0.0</td>\n",
              "      <td>-0.0</td>\n",
              "      <td>0.0</td>\n",
              "      <td>0.0</td>\n",
              "      <td>-0.0</td>\n",
              "    </tr>\n",
              "    <tr>\n",
              "      <th>4</th>\n",
              "      <td>0.0</td>\n",
              "      <td>0.0</td>\n",
              "      <td>-0.0</td>\n",
              "      <td>-0.0</td>\n",
              "      <td>1.0</td>\n",
              "      <td>-0.0</td>\n",
              "      <td>0.0</td>\n",
              "      <td>0.0</td>\n",
              "      <td>-0.0</td>\n",
              "      <td>0.0</td>\n",
              "      <td>...</td>\n",
              "      <td>0.0</td>\n",
              "      <td>0.0</td>\n",
              "      <td>-0.0</td>\n",
              "      <td>-0.0</td>\n",
              "      <td>-0.0</td>\n",
              "      <td>-0.0</td>\n",
              "      <td>0.0</td>\n",
              "      <td>0.0</td>\n",
              "      <td>-0.0</td>\n",
              "      <td>-0.0</td>\n",
              "    </tr>\n",
              "    <tr>\n",
              "      <th>...</th>\n",
              "      <td>...</td>\n",
              "      <td>...</td>\n",
              "      <td>...</td>\n",
              "      <td>...</td>\n",
              "      <td>...</td>\n",
              "      <td>...</td>\n",
              "      <td>...</td>\n",
              "      <td>...</td>\n",
              "      <td>...</td>\n",
              "      <td>...</td>\n",
              "      <td>...</td>\n",
              "      <td>...</td>\n",
              "      <td>...</td>\n",
              "      <td>...</td>\n",
              "      <td>...</td>\n",
              "      <td>...</td>\n",
              "      <td>...</td>\n",
              "      <td>...</td>\n",
              "      <td>...</td>\n",
              "      <td>...</td>\n",
              "      <td>...</td>\n",
              "    </tr>\n",
              "    <tr>\n",
              "      <th>59</th>\n",
              "      <td>0.0</td>\n",
              "      <td>0.0</td>\n",
              "      <td>-0.0</td>\n",
              "      <td>-0.0</td>\n",
              "      <td>-0.0</td>\n",
              "      <td>0.0</td>\n",
              "      <td>0.0</td>\n",
              "      <td>-0.0</td>\n",
              "      <td>-0.0</td>\n",
              "      <td>-0.0</td>\n",
              "      <td>...</td>\n",
              "      <td>0.0</td>\n",
              "      <td>0.0</td>\n",
              "      <td>-0.0</td>\n",
              "      <td>-0.0</td>\n",
              "      <td>0.0</td>\n",
              "      <td>1.0</td>\n",
              "      <td>0.0</td>\n",
              "      <td>0.0</td>\n",
              "      <td>-0.0</td>\n",
              "      <td>-0.0</td>\n",
              "    </tr>\n",
              "    <tr>\n",
              "      <th>60</th>\n",
              "      <td>0.0</td>\n",
              "      <td>0.0</td>\n",
              "      <td>-0.0</td>\n",
              "      <td>-0.0</td>\n",
              "      <td>0.0</td>\n",
              "      <td>-0.0</td>\n",
              "      <td>0.0</td>\n",
              "      <td>0.0</td>\n",
              "      <td>-0.0</td>\n",
              "      <td>0.0</td>\n",
              "      <td>...</td>\n",
              "      <td>0.0</td>\n",
              "      <td>-0.0</td>\n",
              "      <td>-0.0</td>\n",
              "      <td>-0.0</td>\n",
              "      <td>0.0</td>\n",
              "      <td>0.0</td>\n",
              "      <td>1.0</td>\n",
              "      <td>-0.0</td>\n",
              "      <td>0.0</td>\n",
              "      <td>-0.0</td>\n",
              "    </tr>\n",
              "    <tr>\n",
              "      <th>61</th>\n",
              "      <td>0.0</td>\n",
              "      <td>0.0</td>\n",
              "      <td>0.0</td>\n",
              "      <td>0.0</td>\n",
              "      <td>0.0</td>\n",
              "      <td>0.0</td>\n",
              "      <td>-0.0</td>\n",
              "      <td>-0.0</td>\n",
              "      <td>0.0</td>\n",
              "      <td>-0.0</td>\n",
              "      <td>...</td>\n",
              "      <td>-0.0</td>\n",
              "      <td>-0.0</td>\n",
              "      <td>0.0</td>\n",
              "      <td>-0.0</td>\n",
              "      <td>0.0</td>\n",
              "      <td>0.0</td>\n",
              "      <td>-0.0</td>\n",
              "      <td>1.0</td>\n",
              "      <td>-0.0</td>\n",
              "      <td>0.0</td>\n",
              "    </tr>\n",
              "    <tr>\n",
              "      <th>62</th>\n",
              "      <td>-0.0</td>\n",
              "      <td>-0.0</td>\n",
              "      <td>-0.0</td>\n",
              "      <td>0.0</td>\n",
              "      <td>-0.0</td>\n",
              "      <td>0.0</td>\n",
              "      <td>0.0</td>\n",
              "      <td>0.0</td>\n",
              "      <td>0.0</td>\n",
              "      <td>-0.0</td>\n",
              "      <td>...</td>\n",
              "      <td>-0.0</td>\n",
              "      <td>-0.0</td>\n",
              "      <td>0.0</td>\n",
              "      <td>0.0</td>\n",
              "      <td>0.0</td>\n",
              "      <td>-0.0</td>\n",
              "      <td>0.0</td>\n",
              "      <td>-0.0</td>\n",
              "      <td>1.0</td>\n",
              "      <td>-0.0</td>\n",
              "    </tr>\n",
              "    <tr>\n",
              "      <th>63</th>\n",
              "      <td>0.0</td>\n",
              "      <td>-0.0</td>\n",
              "      <td>0.0</td>\n",
              "      <td>-0.0</td>\n",
              "      <td>-0.0</td>\n",
              "      <td>-0.0</td>\n",
              "      <td>0.0</td>\n",
              "      <td>-0.0</td>\n",
              "      <td>-0.0</td>\n",
              "      <td>-0.0</td>\n",
              "      <td>...</td>\n",
              "      <td>-0.0</td>\n",
              "      <td>0.0</td>\n",
              "      <td>0.0</td>\n",
              "      <td>-0.0</td>\n",
              "      <td>0.0</td>\n",
              "      <td>-0.0</td>\n",
              "      <td>-0.0</td>\n",
              "      <td>0.0</td>\n",
              "      <td>-0.0</td>\n",
              "      <td>1.0</td>\n",
              "    </tr>\n",
              "  </tbody>\n",
              "</table>\n",
              "<p>64 rows × 64 columns</p>\n",
              "</div>\n",
              "      <button class=\"colab-df-convert\" onclick=\"convertToInteractive('df-d2c018d9-ab86-4c9c-96d5-d8994e881ed9')\"\n",
              "              title=\"Convert this dataframe to an interactive table.\"\n",
              "              style=\"display:none;\">\n",
              "        \n",
              "  <svg xmlns=\"http://www.w3.org/2000/svg\" height=\"24px\"viewBox=\"0 0 24 24\"\n",
              "       width=\"24px\">\n",
              "    <path d=\"M0 0h24v24H0V0z\" fill=\"none\"/>\n",
              "    <path d=\"M18.56 5.44l.94 2.06.94-2.06 2.06-.94-2.06-.94-.94-2.06-.94 2.06-2.06.94zm-11 1L8.5 8.5l.94-2.06 2.06-.94-2.06-.94L8.5 2.5l-.94 2.06-2.06.94zm10 10l.94 2.06.94-2.06 2.06-.94-2.06-.94-.94-2.06-.94 2.06-2.06.94z\"/><path d=\"M17.41 7.96l-1.37-1.37c-.4-.4-.92-.59-1.43-.59-.52 0-1.04.2-1.43.59L10.3 9.45l-7.72 7.72c-.78.78-.78 2.05 0 2.83L4 21.41c.39.39.9.59 1.41.59.51 0 1.02-.2 1.41-.59l7.78-7.78 2.81-2.81c.8-.78.8-2.07 0-2.86zM5.41 20L4 18.59l7.72-7.72 1.47 1.35L5.41 20z\"/>\n",
              "  </svg>\n",
              "      </button>\n",
              "      \n",
              "  <style>\n",
              "    .colab-df-container {\n",
              "      display:flex;\n",
              "      flex-wrap:wrap;\n",
              "      gap: 12px;\n",
              "    }\n",
              "\n",
              "    .colab-df-convert {\n",
              "      background-color: #E8F0FE;\n",
              "      border: none;\n",
              "      border-radius: 50%;\n",
              "      cursor: pointer;\n",
              "      display: none;\n",
              "      fill: #1967D2;\n",
              "      height: 32px;\n",
              "      padding: 0 0 0 0;\n",
              "      width: 32px;\n",
              "    }\n",
              "\n",
              "    .colab-df-convert:hover {\n",
              "      background-color: #E2EBFA;\n",
              "      box-shadow: 0px 1px 2px rgba(60, 64, 67, 0.3), 0px 1px 3px 1px rgba(60, 64, 67, 0.15);\n",
              "      fill: #174EA6;\n",
              "    }\n",
              "\n",
              "    [theme=dark] .colab-df-convert {\n",
              "      background-color: #3B4455;\n",
              "      fill: #D2E3FC;\n",
              "    }\n",
              "\n",
              "    [theme=dark] .colab-df-convert:hover {\n",
              "      background-color: #434B5C;\n",
              "      box-shadow: 0px 1px 3px 1px rgba(0, 0, 0, 0.15);\n",
              "      filter: drop-shadow(0px 1px 2px rgba(0, 0, 0, 0.3));\n",
              "      fill: #FFFFFF;\n",
              "    }\n",
              "  </style>\n",
              "\n",
              "      <script>\n",
              "        const buttonEl =\n",
              "          document.querySelector('#df-d2c018d9-ab86-4c9c-96d5-d8994e881ed9 button.colab-df-convert');\n",
              "        buttonEl.style.display =\n",
              "          google.colab.kernel.accessAllowed ? 'block' : 'none';\n",
              "\n",
              "        async function convertToInteractive(key) {\n",
              "          const element = document.querySelector('#df-d2c018d9-ab86-4c9c-96d5-d8994e881ed9');\n",
              "          const dataTable =\n",
              "            await google.colab.kernel.invokeFunction('convertToInteractive',\n",
              "                                                     [key], {});\n",
              "          if (!dataTable) return;\n",
              "\n",
              "          const docLinkHtml = 'Like what you see? Visit the ' +\n",
              "            '<a target=\"_blank\" href=https://colab.research.google.com/notebooks/data_table.ipynb>data table notebook</a>'\n",
              "            + ' to learn more about interactive tables.';\n",
              "          element.innerHTML = '';\n",
              "          dataTable['output_type'] = 'display_data';\n",
              "          await google.colab.output.renderOutput(dataTable, element);\n",
              "          const docLink = document.createElement('div');\n",
              "          docLink.innerHTML = docLinkHtml;\n",
              "          element.appendChild(docLink);\n",
              "        }\n",
              "      </script>\n",
              "    </div>\n",
              "  </div>\n",
              "  "
            ]
          },
          "metadata": {},
          "execution_count": 64
        }
      ],
      "source": [
        "pc_data.corr().round()"
      ]
    },
    {
      "cell_type": "code",
      "execution_count": 66,
      "id": "a6dab746",
      "metadata": {
        "id": "a6dab746"
      },
      "outputs": [],
      "source": [
        "x=pc_data"
      ]
    },
    {
      "cell_type": "code",
      "source": [
        "kmean_inst.fit(x)"
      ],
      "metadata": {
        "colab": {
          "base_uri": "https://localhost:8080/",
          "height": 130
        },
        "id": "DcE-v1JDV95k",
        "outputId": "aed8ca24-861f-4048-b3fe-c0d2540881d7"
      },
      "id": "DcE-v1JDV95k",
      "execution_count": 67,
      "outputs": [
        {
          "output_type": "stream",
          "name": "stderr",
          "text": [
            "/usr/local/lib/python3.9/dist-packages/sklearn/cluster/_kmeans.py:870: FutureWarning: The default value of `n_init` will change from 10 to 'auto' in 1.4. Set the value of `n_init` explicitly to suppress the warning\n",
            "  warnings.warn(\n"
          ]
        },
        {
          "output_type": "execute_result",
          "data": {
            "text/plain": [
              "KMeans(n_clusters=6)"
            ],
            "text/html": [
              "<style>#sk-container-id-2 {color: black;background-color: white;}#sk-container-id-2 pre{padding: 0;}#sk-container-id-2 div.sk-toggleable {background-color: white;}#sk-container-id-2 label.sk-toggleable__label {cursor: pointer;display: block;width: 100%;margin-bottom: 0;padding: 0.3em;box-sizing: border-box;text-align: center;}#sk-container-id-2 label.sk-toggleable__label-arrow:before {content: \"▸\";float: left;margin-right: 0.25em;color: #696969;}#sk-container-id-2 label.sk-toggleable__label-arrow:hover:before {color: black;}#sk-container-id-2 div.sk-estimator:hover label.sk-toggleable__label-arrow:before {color: black;}#sk-container-id-2 div.sk-toggleable__content {max-height: 0;max-width: 0;overflow: hidden;text-align: left;background-color: #f0f8ff;}#sk-container-id-2 div.sk-toggleable__content pre {margin: 0.2em;color: black;border-radius: 0.25em;background-color: #f0f8ff;}#sk-container-id-2 input.sk-toggleable__control:checked~div.sk-toggleable__content {max-height: 200px;max-width: 100%;overflow: auto;}#sk-container-id-2 input.sk-toggleable__control:checked~label.sk-toggleable__label-arrow:before {content: \"▾\";}#sk-container-id-2 div.sk-estimator input.sk-toggleable__control:checked~label.sk-toggleable__label {background-color: #d4ebff;}#sk-container-id-2 div.sk-label input.sk-toggleable__control:checked~label.sk-toggleable__label {background-color: #d4ebff;}#sk-container-id-2 input.sk-hidden--visually {border: 0;clip: rect(1px 1px 1px 1px);clip: rect(1px, 1px, 1px, 1px);height: 1px;margin: -1px;overflow: hidden;padding: 0;position: absolute;width: 1px;}#sk-container-id-2 div.sk-estimator {font-family: monospace;background-color: #f0f8ff;border: 1px dotted black;border-radius: 0.25em;box-sizing: border-box;margin-bottom: 0.5em;}#sk-container-id-2 div.sk-estimator:hover {background-color: #d4ebff;}#sk-container-id-2 div.sk-parallel-item::after {content: \"\";width: 100%;border-bottom: 1px solid gray;flex-grow: 1;}#sk-container-id-2 div.sk-label:hover label.sk-toggleable__label {background-color: #d4ebff;}#sk-container-id-2 div.sk-serial::before {content: \"\";position: absolute;border-left: 1px solid gray;box-sizing: border-box;top: 0;bottom: 0;left: 50%;z-index: 0;}#sk-container-id-2 div.sk-serial {display: flex;flex-direction: column;align-items: center;background-color: white;padding-right: 0.2em;padding-left: 0.2em;position: relative;}#sk-container-id-2 div.sk-item {position: relative;z-index: 1;}#sk-container-id-2 div.sk-parallel {display: flex;align-items: stretch;justify-content: center;background-color: white;position: relative;}#sk-container-id-2 div.sk-item::before, #sk-container-id-2 div.sk-parallel-item::before {content: \"\";position: absolute;border-left: 1px solid gray;box-sizing: border-box;top: 0;bottom: 0;left: 50%;z-index: -1;}#sk-container-id-2 div.sk-parallel-item {display: flex;flex-direction: column;z-index: 1;position: relative;background-color: white;}#sk-container-id-2 div.sk-parallel-item:first-child::after {align-self: flex-end;width: 50%;}#sk-container-id-2 div.sk-parallel-item:last-child::after {align-self: flex-start;width: 50%;}#sk-container-id-2 div.sk-parallel-item:only-child::after {width: 0;}#sk-container-id-2 div.sk-dashed-wrapped {border: 1px dashed gray;margin: 0 0.4em 0.5em 0.4em;box-sizing: border-box;padding-bottom: 0.4em;background-color: white;}#sk-container-id-2 div.sk-label label {font-family: monospace;font-weight: bold;display: inline-block;line-height: 1.2em;}#sk-container-id-2 div.sk-label-container {text-align: center;}#sk-container-id-2 div.sk-container {/* jupyter's `normalize.less` sets `[hidden] { display: none; }` but bootstrap.min.css set `[hidden] { display: none !important; }` so we also need the `!important` here to be able to override the default hidden behavior on the sphinx rendered scikit-learn.org. See: https://github.com/scikit-learn/scikit-learn/issues/21755 */display: inline-block !important;position: relative;}#sk-container-id-2 div.sk-text-repr-fallback {display: none;}</style><div id=\"sk-container-id-2\" class=\"sk-top-container\"><div class=\"sk-text-repr-fallback\"><pre>KMeans(n_clusters=6)</pre><b>In a Jupyter environment, please rerun this cell to show the HTML representation or trust the notebook. <br />On GitHub, the HTML representation is unable to render, please try loading this page with nbviewer.org.</b></div><div class=\"sk-container\" hidden><div class=\"sk-item\"><div class=\"sk-estimator sk-toggleable\"><input class=\"sk-toggleable__control sk-hidden--visually\" id=\"sk-estimator-id-2\" type=\"checkbox\" checked><label for=\"sk-estimator-id-2\" class=\"sk-toggleable__label sk-toggleable__label-arrow\">KMeans</label><div class=\"sk-toggleable__content\"><pre>KMeans(n_clusters=6)</pre></div></div></div></div></div>"
            ]
          },
          "metadata": {},
          "execution_count": 67
        }
      ]
    },
    {
      "cell_type": "code",
      "source": [
        "kmean_inst.inertia_\n"
      ],
      "metadata": {
        "colab": {
          "base_uri": "https://localhost:8080/"
        },
        "id": "vJG9DgFJWCuD",
        "outputId": "dddfc568-966d-49d1-f0c1-df3ec8077d86"
      },
      "id": "vJG9DgFJWCuD",
      "execution_count": 69,
      "outputs": [
        {
          "output_type": "execute_result",
          "data": {
            "text/plain": [
              "185909.9030353978"
            ]
          },
          "metadata": {},
          "execution_count": 69
        }
      ]
    },
    {
      "cell_type": "code",
      "source": [
        "kmean_inst.cluster_centers_\n"
      ],
      "metadata": {
        "colab": {
          "base_uri": "https://localhost:8080/"
        },
        "id": "sBlEPpH-XNnr",
        "outputId": "b9fa4bc0-b74f-49ea-8d2c-a59b6c28f853"
      },
      "id": "sBlEPpH-XNnr",
      "execution_count": 70,
      "outputs": [
        {
          "output_type": "execute_result",
          "data": {
            "text/plain": [
              "array([[-2.05453304e+01, -1.14524438e+01, -1.68497706e+00,\n",
              "        -7.11998856e+00,  2.82621291e+00, -1.22135146e+00,\n",
              "         1.17249203e+01,  1.64929056e+00, -3.01213413e+00,\n",
              "         6.82254179e-01, -1.13998237e+00, -1.51497998e+00,\n",
              "        -1.04161732e+00, -3.76559090e+00, -6.09919519e-02,\n",
              "        -5.02490300e-02,  1.44292433e+00,  5.69579153e-02,\n",
              "        -8.09374772e-02, -1.60649697e+00, -3.19045929e-01,\n",
              "        -2.04635323e+00, -1.88271467e+00, -1.83182680e+00,\n",
              "         7.38800052e-02,  2.07484012e+00, -2.54375891e-01,\n",
              "         1.15816935e+00, -1.99235462e+00,  1.19676368e+00,\n",
              "         5.85092019e-01,  1.42031574e-01,  1.42322045e+00,\n",
              "         1.81136803e-01,  1.79682206e-01, -2.90208452e-01,\n",
              "        -4.33336562e-01,  1.50983109e+00, -2.44598144e-01,\n",
              "         4.06296910e-01, -1.88451448e+00, -4.07419190e-01,\n",
              "        -5.14310829e-02,  7.91229680e-01,  9.02076019e-01,\n",
              "        -4.09274739e-01,  8.92255679e-01, -3.30590221e-01,\n",
              "         1.00094404e+00, -7.04319895e-01, -2.75512591e-01,\n",
              "         1.10622023e-02, -4.13483550e-01, -1.07033332e-01,\n",
              "         3.39530093e-01,  5.89663261e-01,  1.26466466e-03,\n",
              "         1.57313541e-01,  7.38390358e-02,  1.38528579e-01,\n",
              "         5.46557362e-02,  7.82417289e-02, -8.09956860e-02,\n",
              "         1.10873130e-14],\n",
              "       [-6.74019540e+00,  4.14487829e+01, -1.27842866e+01,\n",
              "        -1.45325156e+00, -2.06800939e+00, -4.19818204e+00,\n",
              "         2.33338641e-01,  1.26982198e-02,  3.16413166e+00,\n",
              "         4.24967228e-01, -1.00471096e+00,  5.65983621e-01,\n",
              "         6.59404208e-01, -9.59507837e-01, -1.58235310e+00,\n",
              "         1.73037287e+00, -2.13513596e-02, -3.47429465e-01,\n",
              "        -2.02699617e-01,  1.93744032e-01, -1.38028971e-01,\n",
              "        -4.19856868e-01, -6.50749710e-01,  5.39900356e-01,\n",
              "         3.16841404e-01,  7.51116692e-01, -7.77643453e-03,\n",
              "         4.80646277e-01, -1.52924068e-01, -2.29006326e-01,\n",
              "         1.30295571e-01, -2.48763139e-02, -8.53732621e-01,\n",
              "        -4.21119203e-01,  8.22029219e-02,  3.29783611e-01,\n",
              "        -1.53825679e-01, -4.64176534e-02,  1.10118873e-01,\n",
              "        -8.99739351e-03, -6.50332777e-02, -2.79780517e-02,\n",
              "         3.25106763e-01, -1.66463525e-01, -4.02121563e-02,\n",
              "         3.53106239e-01,  8.00590087e-02,  1.40920413e-01,\n",
              "         1.84873539e-01,  5.90721295e-01,  6.07734555e-02,\n",
              "         1.64270130e-01, -1.09223948e-01, -1.16588286e-01,\n",
              "        -7.47970200e-02,  5.10222853e-01,  1.89146327e-01,\n",
              "         3.72326846e-01,  7.61241109e-03, -1.41579764e-01,\n",
              "        -2.05767260e-01, -3.73926063e-04, -5.02068339e-02,\n",
              "         1.10873130e-14],\n",
              "       [ 4.72729388e+01,  6.69952520e+00,  3.09433096e+01,\n",
              "        -7.76657909e+00,  7.42904587e+00,  2.99312409e+00,\n",
              "         3.03138442e+00,  3.89284519e-02,  4.08576794e+00,\n",
              "        -4.48952457e+00, -4.47102872e+00, -9.52738533e-03,\n",
              "         2.19671343e+00, -3.66168333e+00, -2.66800282e+00,\n",
              "        -1.84741670e+00, -9.32050388e-01, -4.09736740e-01,\n",
              "         3.56128479e-01, -1.31315065e+00,  5.81338598e-01,\n",
              "        -1.96389705e+00,  7.97599077e-01,  7.76806896e-02,\n",
              "         4.93367571e-01,  7.33624559e-01,  9.19351442e-01,\n",
              "         1.13029280e+00, -9.97863004e-01,  6.91426012e-01,\n",
              "        -3.85043895e-01, -8.66255410e-01,  5.38405738e-01,\n",
              "        -1.50605030e+00,  5.28681795e-01,  2.42142179e+00,\n",
              "         9.99788584e-01, -5.70189122e-01,  4.00005572e-01,\n",
              "         5.93859578e-01, -6.74736369e-01,  4.55567371e-01,\n",
              "        -2.92176346e-01, -5.78459884e-02, -3.30997122e-01,\n",
              "        -2.53266089e-01,  9.37164019e-03, -7.14568420e-01,\n",
              "         2.46792085e-01, -2.43468441e-01, -2.67736372e-01,\n",
              "        -9.46362631e-02, -5.34511233e-01,  2.21492594e-01,\n",
              "        -3.75465498e-01, -2.44625980e-01, -2.03345916e-01,\n",
              "         1.43383607e-01, -2.84307411e-01,  1.06989816e-01,\n",
              "         1.05767447e-01, -4.87173991e-02,  7.00426879e-02,\n",
              "         1.10873130e-14],\n",
              "       [-2.77937081e+01, -6.30984331e-01,  1.31317485e+01,\n",
              "         1.01406027e+01,  5.07765809e+00,  1.29383800e+01,\n",
              "        -9.67592063e+00, -1.52701386e+00, -1.84767789e+00,\n",
              "        -1.55900089e+00, -2.40227105e+00, -3.17031888e+00,\n",
              "        -2.66850368e+00,  4.61072649e+00,  6.72950068e-01,\n",
              "         6.45215081e-01, -2.10541561e+00, -4.62912943e-01,\n",
              "        -3.01015572e-01,  1.08476670e+00,  1.94755298e+00,\n",
              "         1.79001682e-01,  7.13145282e-02,  1.02055283e+00,\n",
              "         8.75022111e-01,  6.73084130e-01,  1.64181994e+00,\n",
              "        -9.40712720e-01,  9.89044724e-01, -8.36938198e-01,\n",
              "        -1.75397815e+00, -1.78577097e-01, -1.70858864e+00,\n",
              "        -1.95864101e+00, -3.54920655e-01,  6.73549964e-01,\n",
              "        -3.26349708e-01,  5.06436579e-01,  2.29473471e-01,\n",
              "        -1.12178541e+00,  5.90871703e-02, -1.06878088e+00,\n",
              "        -3.06916059e-01,  4.26104472e-01, -8.68346960e-01,\n",
              "        -5.27827389e-02, -6.02142861e-01,  1.30083885e+00,\n",
              "        -6.21452389e-01, -4.29053769e-02,  5.30281074e-01,\n",
              "         4.68556340e-01,  4.63477660e-01,  6.86099854e-01,\n",
              "        -3.92773420e-01, -1.30122374e-02, -1.41926508e-01,\n",
              "        -5.43458480e-01, -3.70666986e-02,  4.02171620e-01,\n",
              "         1.69881968e-01, -4.27317782e-02, -1.40895884e-01,\n",
              "         1.10873130e-14],\n",
              "       [ 3.26997028e+01, -1.22153668e+01, -2.48352856e+01,\n",
              "         2.57591252e+01,  6.04365457e+00,  3.28599634e-01,\n",
              "         5.26580882e+00, -9.78100640e+00, -1.51436810e+00,\n",
              "        -1.41435384e+00, -3.00339652e+00, -2.18968998e+00,\n",
              "         6.12233729e-01,  7.17538963e-01, -4.04834090e-01,\n",
              "         2.96667177e-01, -1.77281096e+00,  4.34839242e+00,\n",
              "         3.21836467e-01,  2.36526193e+00, -2.12045162e+00,\n",
              "        -3.58246367e-01,  2.65479142e-01,  3.59958540e+00,\n",
              "        -1.62568142e+00,  2.30628959e+00, -1.44347986e+00,\n",
              "         1.61435096e-02,  1.99792862e+00,  3.20694848e+00,\n",
              "         1.67777829e+00, -4.40151399e-01,  2.92174640e+00,\n",
              "        -2.37141511e+00, -1.64751505e+00,  9.79691082e-01,\n",
              "        -1.30715131e+00,  9.67945929e-01,  2.87429843e-02,\n",
              "         1.91635095e-01,  1.06829068e+00,  9.31094154e-02,\n",
              "        -1.82072958e-01, -2.67284230e-01, -7.22474959e-02,\n",
              "        -1.05944170e+00, -1.08139956e+00,  4.54679417e-01,\n",
              "         5.29062945e-01, -6.81672019e-01, -4.70688978e-01,\n",
              "         2.59224102e-01, -1.01001512e-01,  2.54354012e-01,\n",
              "         7.48698266e-02, -2.17134449e-01, -6.67467101e-02,\n",
              "        -1.10795584e-01, -3.38331592e-01,  1.61519758e-01,\n",
              "        -2.50264171e-01,  9.87272050e-02,  5.65796621e-01,\n",
              "         1.10873130e-14],\n",
              "       [ 5.94355819e+00, -8.98176069e+00, -1.94117659e+00,\n",
              "        -3.08283910e+00, -6.30091610e+00, -3.74481616e+00,\n",
              "        -5.08900347e+00,  1.85725113e+00,  4.71222393e-01,\n",
              "         1.60663251e+00,  3.96935290e+00,  2.46088051e+00,\n",
              "         6.99157781e-01,  1.56700541e+00,  1.22771409e+00,\n",
              "        -5.05722269e-01,  6.74511068e-01, -5.78677860e-01,\n",
              "         8.36213954e-02,  2.46839011e-01, -2.28358749e-01,\n",
              "         1.92476831e+00,  1.07169169e+00, -3.95197340e-01,\n",
              "        -2.96318638e-01, -2.53290565e+00, -4.40827925e-01,\n",
              "        -8.08094452e-01,  6.53320869e-01, -1.18853298e+00,\n",
              "         4.21963137e-02,  3.35589077e-01, -6.03642770e-01,\n",
              "         1.81620186e+00,  2.35639792e-01, -1.12201266e+00,\n",
              "         4.76908128e-01, -1.14484406e+00, -1.10013799e-01,\n",
              "         1.69932954e-02,  1.05723491e+00,  5.44014934e-01,\n",
              "         1.44014119e-01, -4.97238968e-01, -5.46698182e-02,\n",
              "         4.28839325e-01, -7.04455095e-02, -3.02915775e-01,\n",
              "        -6.00415007e-01,  4.13408459e-01,  1.01001639e-01,\n",
              "        -2.98524990e-01,  2.68139896e-01, -2.87949838e-01,\n",
              "         7.60312097e-02, -4.35776809e-01,  5.05631834e-02,\n",
              "        -3.68734111e-02,  1.22849252e-01, -2.54351632e-01,\n",
              "         1.04163288e-02, -3.77510349e-02, -2.16532205e-02,\n",
              "         1.10873130e-14]])"
            ]
          },
          "metadata": {},
          "execution_count": 70
        }
      ]
    },
    {
      "cell_type": "code",
      "source": [
        "kmean_inst.labels_"
      ],
      "metadata": {
        "colab": {
          "base_uri": "https://localhost:8080/"
        },
        "id": "YpvaiV-sXPDE",
        "outputId": "2956893d-b0c2-4f6e-a35d-5d56487ba09b"
      },
      "id": "YpvaiV-sXPDE",
      "execution_count": 71,
      "outputs": [
        {
          "output_type": "execute_result",
          "data": {
            "text/plain": [
              "array([3, 3, 3, 3, 3, 3, 3, 3, 3, 0, 0, 0, 0, 0, 0, 0, 0, 5, 0, 5, 5, 5,\n",
              "       5, 5, 5, 0, 5, 5, 5, 5, 0, 0, 0, 5, 2, 2, 2, 2, 2, 2, 5, 5, 5, 5,\n",
              "       5, 5, 4, 5, 4, 4, 4, 4, 5, 5, 5, 1, 1, 1, 1, 1, 1, 1, 1, 1],\n",
              "      dtype=int32)"
            ]
          },
          "metadata": {},
          "execution_count": 71
        }
      ]
    }
  ],
  "metadata": {
    "kernelspec": {
      "display_name": "Python 3 (ipykernel)",
      "language": "python",
      "name": "python3"
    },
    "language_info": {
      "codemirror_mode": {
        "name": "ipython",
        "version": 3
      },
      "file_extension": ".py",
      "mimetype": "text/x-python",
      "name": "python",
      "nbconvert_exporter": "python",
      "pygments_lexer": "ipython3",
      "version": "3.9.7"
    },
    "colab": {
      "provenance": [],
      "include_colab_link": true
    }
  },
  "nbformat": 4,
  "nbformat_minor": 5
}