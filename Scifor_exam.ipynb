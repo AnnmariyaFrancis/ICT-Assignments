{
  "nbformat": 4,
  "nbformat_minor": 0,
  "metadata": {
    "colab": {
      "provenance": [],
      "authorship_tag": "ABX9TyM0wX7qwcg2k6xxR7tqOeUC",
      "include_colab_link": true
    },
    "kernelspec": {
      "name": "python3",
      "display_name": "Python 3"
    },
    "language_info": {
      "name": "python"
    }
  },
  "cells": [
    {
      "cell_type": "markdown",
      "metadata": {
        "id": "view-in-github",
        "colab_type": "text"
      },
      "source": [
        "<a href=\"https://colab.research.google.com/github/AnnmariyaFrancis/ICT-Assignments/blob/main/Scifor_exam.ipynb\" target=\"_parent\"><img src=\"https://colab.research.google.com/assets/colab-badge.svg\" alt=\"Open In Colab\"/></a>"
      ]
    },
    {
      "cell_type": "markdown",
      "source": [
        "Q5. Write a python program to filter the numbers in a given list that are divisible by 2 and 3\n",
        "\n",
        "without input from the user"
      ],
      "metadata": {
        "id": "g4SustEse7Rz"
      }
    },
    {
      "cell_type": "code",
      "source": [
        "list1=input(\"enter the input\").split()\n",
        "list2=list(filter(lambda x:int(x)%2==0 and int(x)%3==0,list1))\n",
        "list2"
      ],
      "metadata": {
        "colab": {
          "base_uri": "https://localhost:8080/"
        },
        "id": "o0xKgAgmT6dw",
        "outputId": "f42634d3-d172-47ce-d9b8-ed78cad6654f"
      },
      "execution_count": null,
      "outputs": [
        {
          "name": "stdout",
          "output_type": "stream",
          "text": [
            "enter the input2 3 6 9 27 60 90 120 55 46\n"
          ]
        },
        {
          "output_type": "execute_result",
          "data": {
            "text/plain": [
              "['6', '60', '90', '120']"
            ]
          },
          "metadata": {},
          "execution_count": 33
        }
      ]
    },
    {
      "cell_type": "code",
      "source": [
        "list3=[]\n",
        "for i in list2:\n",
        "      list3.append(int(i))\n",
        "list3"
      ],
      "metadata": {
        "colab": {
          "base_uri": "https://localhost:8080/"
        },
        "id": "L-ZNs0_ZXBOT",
        "outputId": "8e44d8d8-2e16-4e82-fee8-52e24c011408"
      },
      "execution_count": null,
      "outputs": [
        {
          "output_type": "execute_result",
          "data": {
            "text/plain": [
              "[6, 60, 90, 120]"
            ]
          },
          "metadata": {},
          "execution_count": 35
        }
      ]
    }
  ]
}