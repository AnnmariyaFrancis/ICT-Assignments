{
  "cells": [
    {
      "cell_type": "markdown",
      "metadata": {
        "id": "view-in-github",
        "colab_type": "text"
      },
      "source": [
        "<a href=\"https://colab.research.google.com/github/AnnmariyaFrancis/ICT-Assignments/blob/main/handwriting_text_extraction.ipynb\" target=\"_parent\"><img src=\"https://colab.research.google.com/assets/colab-badge.svg\" alt=\"Open In Colab\"/></a>"
      ]
    },
    {
      "cell_type": "markdown",
      "metadata": {
        "id": "bfCwVJNtM5Rk"
      },
      "source": [
        "# **Automate extraction of handwritten text from an image**"
      ]
    },
    {
      "cell_type": "markdown",
      "source": [
        "\n",
        "\n",
        "---\n",
        "\n",
        "\n",
        "\n",
        "---\n",
        "\n",
        "\n",
        "**Name Of The Student\t\t:**\tAnn Mariya Francis\n",
        "\n",
        "**Internship Project Title\t\t:** Automate extraction of handwritten text from an image\n",
        "\n",
        "**Name of the Company\t:** TCS iON\n",
        "\n",
        "**Name of the Industry Mentor\t:** Debashis Roy\n",
        "\n",
        "**Name of the Institute\t\t:** ICT Academy of Kerala\n",
        "\n",
        "\n",
        "---\n",
        "\n",
        "\n",
        "\n",
        "---\n",
        "\n",
        "\n"
      ],
      "metadata": {
        "id": "Re3FAKcEqHuT"
      }
    },
    {
      "cell_type": "markdown",
      "source": [
        "## **Introduction**\n",
        "The objective of this project is to develop machine learning algorithms for extracting entities and knowledge from documents containing handwritten annotations. The main goal is to identify handwritten words within images. To tackle the challenge of recognizing sequences, we will employ recurrent neural networks (RNNs), which are well-suited for this task. Additionally, convolutional neural networks (CNNs) will be utilized for their prowess in image-related tasks. In the context of Optical Character Recognition (OCR) problems like the one we're addressing, it is crucial to combine both CNN and RNN approaches. This hybrid model will capitalize on the strengths of both networks, enabling us to effectively address the complexities of identifying handwritten words in images.\n",
        "\n",
        "The implementation of the CRNN network can be divided into the following steps:\n",
        "\n",
        "1.   Selecting Dataset\n",
        "2.   Preprocessing Data\n",
        "3.   Splitting of Data\n",
        "3.   Creating Neural Network Architecture and Loss Function\n",
        "6.   Training the Model\n",
        "7.   Testing and Prediction\n",
        "8.   Plot Accuracy and Loss.\n",
        "9.   Get Best Model Index\n",
        "10.   Save the Model."
      ],
      "metadata": {
        "id": "Fy99BFyFqfbv"
      }
    },
    {
      "cell_type": "markdown",
      "source": [
        "## **Creating Dataset**\n",
        "I downloaded the words.tgz from the [IAM handwritten datset](https://fki.tic.heia-fr.ch/databases/download-the-iam-handwriting-database). I've acquired the \"words.tgz\" file from the IAM handwritten dataset, a substantial collection comprising 115,320 images totaling 1.09 GB in size. Additionally, I've obtained the \"ascii.tgz\" section of the dataset, which includes the \"words.txt\" file containing word-related information. Both the \"words.tgz\" archive and the \"words.txt\" file have been successfully uploaded to my Google Drive. From the data provided in the \"ascii\" section, I've chosen to utilize a subset of 7,850 images for the training dataset, with an additional 876 images earmarked for the validation dataset.\n",
        "\n",
        "1.   Install Kaggle.\n",
        "2.   Create token.\n",
        "3.   Create Folder.\n",
        "4.   Get API link and download dataset.\n",
        "5.   Unzip the File.\n",
        "\n",
        "## **Dataset**\n",
        "we used IAM handwritten datset. This is good dataset total of 1.09 GB images. Here I have used only 7850 images for the training set and 876 images for validation dataset.\n",
        "\n",
        "\n",
        "\n",
        "\n"
      ],
      "metadata": {
        "id": "c2Bd1E5XsVAr"
      }
    },
    {
      "cell_type": "markdown",
      "source": [
        "**Extracted words.tgz and read all available images to a list**"
      ],
      "metadata": {
        "id": "8NNLmOGBumuV"
      }
    },
    {
      "cell_type": "code",
      "execution_count": null,
      "metadata": {
        "id": "A0u24KEODR3J"
      },
      "outputs": [],
      "source": [
        "'''from google.colab import drive\n",
        "drive.mount('/content/drive')\n",
        "\n",
        "!mkdir words_temp\n",
        "!mkdir words\n",
        "!mkdir words_test\n",
        "!cp \"/content/drive/MyDrive/TCSion RIO/Handwritten text extraction/words.tgz\" \"words.tgz\"\n",
        "!cp \"/content/drive/MyDrive/TCSion RIO/Handwritten text extraction/words.txt\" \"words.txt\"\n",
        "\n",
        "!tar -xzf words.tgz -C words_temp\n",
        "\n",
        "import os\n",
        "import shutil\n",
        "\n",
        "image_file_list = []\n",
        "for root, directories, files in os.walk('words_temp'):\n",
        "    for filename in files:\n",
        "        file_path = os.path.join(root, filename)\n",
        "        image_file_list.append(file_path)'''"
      ]
    },
    {
      "cell_type": "markdown",
      "source": [
        "**Read the contents of words.txt and appended all the valid images to a list**"
      ],
      "metadata": {
        "id": "QOrLLSahvEi6"
      }
    },
    {
      "cell_type": "code",
      "source": [
        "'''with open('words.txt') as f:\n",
        "    contents = f.readlines()\n",
        "f.close()\n",
        "\n",
        "def clean(text):\n",
        "    temp = text.rstrip(\"\\n\").split(' ')\n",
        "    return temp[0] + ' ' + \" \".join(temp[8:])\n",
        "\n",
        "valid_file_list = [clean(f).split(' ')[0] for f in contents[18:] if f.split(' ')[1] == 'ok']'''"
      ],
      "metadata": {
        "id": "2QOnFODQi8Ap"
      },
      "execution_count": null,
      "outputs": []
    },
    {
      "cell_type": "markdown",
      "source": [
        "**Random sampled 90000 images as main dataset and the remaining 6456 images as testing dataset and uploaded both to my gdrive as a zip files**"
      ],
      "metadata": {
        "id": "0oW40hbkvrrz"
      }
    },
    {
      "cell_type": "code",
      "source": [
        "'''import random\n",
        "\n",
        "sample_size = 90000  # Adjust this to the number of items you want to sample\n",
        "\n",
        "sampled_valid_files = random.sample(valid_file_list, sample_size)\n",
        "main_files = [item for item in image_file_list if item.rstrip('.png').split('/')[-1] in sampled_valid_files]\n",
        "test_files = [item for item in image_file_list if (item.rstrip('.png').split('/')[-1] in valid_file_list and not in sampled_valid_files)]\n",
        "\n",
        "for file_ in main_files:\n",
        "    dest = file_.split('/')[-1]\n",
        "    shutil.copy(file_, 'words/')\n",
        "\n",
        "for file_ in test_files:\n",
        "    dest = file_.split('/')[-1]\n",
        "    shutil.copy(file_, 'words_test/')\n",
        "\n",
        "!zip -r 'words.zip' words\n",
        "!zip -r 'words_test.zip' words_test\n",
        "!cp \"words.zip\" \"/content/drive/MyDrive/TCSion RIO/Handwritten text extraction/words.zip\n",
        "!cp \"words_test.zip\" \"/content/drive/MyDrive/TCSion RIO/Handwritten text extraction/words_test.zip\"'''"
      ],
      "metadata": {
        "id": "kN9E6j09jeeC"
      },
      "execution_count": null,
      "outputs": []
    },
    {
      "cell_type": "markdown",
      "metadata": {
        "id": "lBvlX2XANIK1"
      },
      "source": [
        "**Loading and Extracting the datasets and words.txt from google drive**"
      ]
    },
    {
      "cell_type": "code",
      "execution_count": null,
      "metadata": {
        "id": "w6GM_18pEIke"
      },
      "outputs": [],
      "source": [
        "from google.colab import drive\n",
        "drive.mount('/content/drive')\n",
        "\n",
        "!cp \"/content/drive/MyDrive/TCSion RIO/Handwritten text extraction/words.zip\" \"words.zip\"\n",
        "!cp \"/content/drive/MyDrive/TCSion RIO/Handwritten text extraction/words_test.zip\" \"words_test.zip\"\n",
        "!cp \"/content/drive/MyDrive/TCSion RIO/Handwritten text extraction/words.txt\" \"words.txt\"\n",
        "!unzip 'words.zip'\n",
        "!unzip 'words_test.zip'"
      ]
    },
    {
      "cell_type": "code",
      "execution_count": null,
      "metadata": {
        "id": "-RGgcFBz2E0n"
      },
      "outputs": [],
      "source": [
        "import numpy as np\n",
        "import cv2\n",
        "import os\n",
        "import random\n",
        "import json"
      ]
    },
    {
      "cell_type": "markdown",
      "source": [
        "**Preprocessing**\n"
      ],
      "metadata": {
        "id": "9zVFYfZALQqX"
      }
    },
    {
      "cell_type": "code",
      "execution_count": null,
      "metadata": {
        "id": "Er9J7R7HE7hI"
      },
      "outputs": [],
      "source": [
        "#reading all contents from words.txt that contains the filename and other information about each image\n",
        "with open('words.txt') as f:\n",
        "    contents = f.readlines()\n",
        "f.close()\n",
        "\n",
        "# function to return only the filename and label seperated by a space from each line\n",
        "def clean(text):\n",
        "    temp = text.rstrip(\"\\n\").split(' ')\n",
        "    return temp[0] + ' ' + \" \".join(temp[8:])\n",
        "\n",
        "# reading filenames from the folders in the unzipped zipfile\n",
        "img_files_main = [f.split('.png')[0] for f in os.listdir('words')]\n",
        "img_files_test = [f.split('.png')[0] for f in os.listdir('words_test')]\n",
        "\n",
        "# making a list of filename <space> word for all images labelled as ok\n",
        "all_valid_images = [clean(f) for f in contents[18:] if f.split(' ')[1] == 'ok']\n",
        "\n",
        "# seperating them to main and testing data based on the images folder\n",
        "valid_images_main = [item for item in all_valid_images if item.split(' ')[0] in img_files_main]\n",
        "valid_images_test = [item for item in all_valid_images if item.split(' ')[0] in img_files_test]"
      ]
    },
    {
      "cell_type": "code",
      "source": [
        "print(\"5 samples from main dataset :\", valid_images_main[:5])\n",
        "print(\"5 samples from testing dataset :\", valid_images_test[:5])"
      ],
      "metadata": {
        "colab": {
          "base_uri": "https://localhost:8080/"
        },
        "id": "ZT9ZTlSP2dWq",
        "outputId": "6d54128e-d789-4d8e-e1e7-e8284f5d312b"
      },
      "execution_count": null,
      "outputs": [
        {
          "output_type": "stream",
          "name": "stdout",
          "text": [
            "5 samples from main dataset : ['a01-000u-00-00 A', 'a01-000u-00-01 MOVE', 'a01-000u-00-02 to', 'a01-000u-00-03 stop', 'a01-000u-00-04 Mr.']\n",
            "5 samples from testing dataset : ['a01-000u-01-03 Labour', 'a01-000x-02-00 meeting', 'a01-000x-02-07 Michael', 'a01-000x-04-08 Will', 'a01-003-03-06 Labour']\n"
          ]
        }
      ]
    },
    {
      "cell_type": "code",
      "source": [
        "print(f\"Size of training + validation dataset : {len(valid_images_main)} images\")\n",
        "print(f\"Size of testing dataset : {len(valid_images_test)} images\")"
      ],
      "metadata": {
        "colab": {
          "base_uri": "https://localhost:8080/"
        },
        "id": "XNQ_b5LmHoKi",
        "outputId": "24cc5c84-008a-4d95-e379-1687dc5220d0"
      },
      "execution_count": null,
      "outputs": [
        {
          "output_type": "stream",
          "name": "stdout",
          "text": [
            "Size of training + validation dataset : 90000 images\n",
            "Size of testing dataset : 6456 images\n"
          ]
        }
      ]
    },
    {
      "cell_type": "markdown",
      "source": [
        "**Making a character list of all possible characters from every word excluding blank space**"
      ],
      "metadata": {
        "id": "0TuikVot6_zC"
      }
    },
    {
      "cell_type": "code",
      "execution_count": null,
      "metadata": {
        "id": "mlS_oga-Wp0v",
        "colab": {
          "base_uri": "https://localhost:8080/"
        },
        "outputId": "8766d223-4ded-4258-e66e-87bc69d7a68e"
      },
      "outputs": [
        {
          "output_type": "stream",
          "name": "stdout",
          "text": [
            "Total number of unique characters: 78\n"
          ]
        }
      ],
      "source": [
        "words = [' '.join(itm.split(' ')[1:]) for itm in all_valid_images]\n",
        "\n",
        "char_set = set()\n",
        "for word in words:\n",
        "    for char in word:\n",
        "        char_set.add(char)\n",
        "\n",
        "char_set.remove(' ')\n",
        "char_list = sorted(list(char_set))\n",
        "\n",
        "print(\"Total number of unique characters:\", len(char_list))"
      ]
    },
    {
      "cell_type": "code",
      "source": [
        "# function to encode each output word into digits\n",
        "def encode_to_labels(text):\n",
        "    encoded = []\n",
        "    for char in text:\n",
        "        encoded.append(char_list.index(char))\n",
        "    return encoded\n",
        "\n",
        "# for example\n",
        "print(\"The word 'Train' encodes to:\", encode_to_labels(\"Train\"))"
      ],
      "metadata": {
        "id": "aAY6wZw0UZNE",
        "colab": {
          "base_uri": "https://localhost:8080/"
        },
        "outputId": "795f5c1e-8c26-420c-f3a2-f961feafd91a"
      },
      "execution_count": null,
      "outputs": [
        {
          "output_type": "stream",
          "name": "stdout",
          "text": [
            "The word 'Train' encodes to: [45, 69, 52, 60, 65]\n"
          ]
        }
      ]
    },
    {
      "cell_type": "code",
      "execution_count": null,
      "metadata": {
        "id": "Pp8LCqDCMmra"
      },
      "outputs": [],
      "source": [
        "\n",
        "# Function to converts image to shape (32, 128, 1) & normalize it\n",
        "def process_image(img):\n",
        "    \"\"\"\n",
        "    Converts image to shape (32, 128, 1) & normalize\n",
        "    \"\"\"\n",
        "    w, h = img.shape\n",
        "\n",
        "    # Aspect Ratio Calculation\n",
        "    new_w = 32\n",
        "    new_h = int(h * (new_w / w))\n",
        "    img = cv2.resize(img, (new_h, new_w))\n",
        "    w, h = img.shape\n",
        "\n",
        "    img = img.astype('float32')\n",
        "\n",
        "    # Converts each to (32, 128, 1)\n",
        "    if w < 32:\n",
        "        add_zeros = np.full((32-w, h), 255)\n",
        "        img = np.concatenate((img, add_zeros))\n",
        "        w, h = img.shape\n",
        "\n",
        "    if h < 128:\n",
        "        add_zeros = np.full((w, 128-h), 255)\n",
        "        img = np.concatenate((img, add_zeros), axis=1)\n",
        "        w, h = img.shape\n",
        "\n",
        "    if h > 128 or w > 32:\n",
        "        dim = (128,32)\n",
        "        img = cv2.resize(img, dim)\n",
        "\n",
        "    img = cv2.subtract(255, img)\n",
        "\n",
        "    img = np.expand_dims(img, axis=2)\n",
        "\n",
        "    # Normalize\n",
        "    img = img / 255\n",
        "\n",
        "    return img\n"
      ]
    },
    {
      "cell_type": "code",
      "execution_count": null,
      "metadata": {
        "colab": {
          "base_uri": "https://localhost:8080/"
        },
        "id": "1OGWJxH187is",
        "outputId": "e73ed0ee-0b1f-4d3f-d67f-84ca38ef0f62"
      },
      "outputs": [
        {
          "output_type": "stream",
          "name": "stdout",
          "text": [
            "[M Ps]\n",
            "[M Ps]\n",
            "[M Ps]\n",
            "[0M Ps]\n",
            "[more]\n",
            "[M Ps]\n",
            "[M Ps]\n",
            "[T V]\n",
            "[Powell]\n",
            "[T V]\n",
            "[B B C]\n",
            "[B B C]\n",
            "[B B C]\n",
            "[I T V]\n",
            "[B B C's]\n",
            "[M Ps]\n",
            "[M Ps]\n",
            "[M P]\n",
            "[0M P]\n",
            "[M Ps]\n",
            "[C O]\n",
            "[T V]\n",
            "[0M Ps]\n",
            "[M Ps]\n",
            "[n log n]\n"
          ]
        }
      ],
      "source": [
        "max_label_len = 0\n",
        "all_images = []\n",
        "all_labels = []\n",
        "all_input_length = []\n",
        "label_length = []\n",
        "original_text = []\n",
        "\n",
        "max_length = 0\n",
        "\n",
        "for line in file_list:\n",
        "    splits = line.split(' ')\n",
        "    file_name = splits[0]\n",
        "    word = ' '.join(splits[1:])\n",
        "    img = cv2.imread('words/{}.png'.format(file_name), cv2.IMREAD_GRAYSCALE)\n",
        "    #print(img)\n",
        "    try:\n",
        "        img = process_image(img)\n",
        "        label = encode_to_labels(word)\n",
        "        #print(label)\n",
        "    except:\n",
        "        print(f\"[{word}]\")\n",
        "        continue\n",
        "    all_images.append(img)\n",
        "    all_labels.append(label)\n",
        "    all_input_length.append(31)\n",
        "    label_length.append(len(word))\n",
        "    original_text.append(word)\n",
        "\n",
        "    if len(word) > max_label_len:\n",
        "        max_label_len = len(word)"
      ]
    },
    {
      "cell_type": "markdown",
      "source": [
        "**Splitting of Data**"
      ],
      "metadata": {
        "id": "pnCoLuTqK3tO"
      }
    },
    {
      "cell_type": "code",
      "execution_count": null,
      "metadata": {
        "id": "8fAAV5zmWNLR"
      },
      "outputs": [],
      "source": [
        "from sklearn.model_selection import train_test_split\n",
        "from tensorflow.keras.preprocessing.sequence import pad_sequences"
      ]
    },
    {
      "cell_type": "code",
      "execution_count": null,
      "metadata": {
        "id": "UXgmWdX5YmMt"
      },
      "outputs": [],
      "source": [
        "padded_labels = pad_sequences(all_labels, maxlen=max_label_len, padding='post')\n",
        "padded_labels = np.asarray(padded_labels)"
      ]
    },
    {
      "cell_type": "code",
      "execution_count": null,
      "metadata": {
        "id": "xEGNaie_aVqu"
      },
      "outputs": [],
      "source": [
        "train_size = 0.85\n",
        "\n",
        "split_index = int(len(all_images) * 0.85)\n",
        "train_images = np.array(all_images[:split_index])\n",
        "valid_images = np.array(all_images[split_index:])\n",
        "\n",
        "train_padded_label = np.array(padded_labels[:split_index])\n",
        "valid_padded_label = np.array(padded_labels[split_index:])\n",
        "\n",
        "train_input_length = np.array(all_input_length[:split_index])\n",
        "valid_input_length = np.array(all_input_length[split_index:])\n",
        "\n",
        "train_label_length = np.array(label_length[:split_index])\n",
        "valid_label_length = np.array(label_length[split_index:])\n",
        "\n",
        "train_original_text = np.array(original_text[:split_index])\n",
        "valid_original_text = np.array(original_text[split_index:])"
      ]
    },
    {
      "cell_type": "code",
      "execution_count": null,
      "metadata": {
        "colab": {
          "base_uri": "https://localhost:8080/"
        },
        "id": "rxr0dgr_WihA",
        "outputId": "181e65ea-f271-4d21-8d88-56f13948ea8a"
      },
      "outputs": [
        {
          "output_type": "execute_result",
          "data": {
            "text/plain": [
              "((76478, 21), (13497, 21), 21)"
            ]
          },
          "metadata": {},
          "execution_count": 18
        }
      ],
      "source": [
        "train_padded_label.shape, valid_padded_label.shape, max_label_len"
      ]
    },
    {
      "cell_type": "code",
      "execution_count": null,
      "metadata": {
        "colab": {
          "base_uri": "https://localhost:8080/"
        },
        "id": "fIbKelcUa3Ez",
        "outputId": "3ed1fa85-8b22-4cf0-a743-ef44f44c9d92"
      },
      "outputs": [
        {
          "output_type": "execute_result",
          "data": {
            "text/plain": [
              "((76478, 32, 128, 1),\n",
              " (13497, 32, 128, 1),\n",
              " (76478,),\n",
              " (13497,),\n",
              " (76478,),\n",
              " (13497,),\n",
              " (76478,),\n",
              " (13497,))"
            ]
          },
          "metadata": {},
          "execution_count": 19
        }
      ],
      "source": [
        "train_images.shape, valid_images.shape, train_input_length.shape, valid_input_length.shape, train_label_length.shape, valid_label_length.shape, train_original_text.shape, valid_original_text.shape"
      ]
    },
    {
      "cell_type": "markdown",
      "metadata": {
        "id": "LW7zsxQAbeDV"
      },
      "source": [
        "# Model building"
      ]
    },
    {
      "cell_type": "markdown",
      "source": [
        "Our architecture takes input images with dimensions of 32 in height and 128 in width. The architecture comprises seven convolutional layers, out of which six employ a kernel size of (3,3), while the last one uses a size of (2,2). The number of filters progressively increases from 64 to 512 across these layers. We integrate two max-pooling layers with dimensions (2,2), followed by an additional two max-pooling layers sized (2,1). These steps help capture features over a broader width, facilitating the recognition of longer texts. Batch normalization layers are applied after the fifth and sixth convolutional layers, contributing to faster training.\n",
        "\n",
        "We utilize a lambda function to reshape the output from the convolutional layer, ensuring compatibility with the subsequent LSTM layer. Two Bidirectional LSTM layers, each containing 128 units, are employed. The resultant RNN layer produces an output of dimensions (batch_size, 31, 63), where 63 represents the overall count of output classes, including the blank character."
      ],
      "metadata": {
        "id": "_C-s4a3FseNA"
      }
    },
    {
      "cell_type": "code",
      "execution_count": null,
      "metadata": {
        "id": "WrxJHzE4a6g4"
      },
      "outputs": [],
      "source": [
        "from tensorflow.keras.models import Sequential, Model\n",
        "from tensorflow.keras.layers import Conv2D, MaxPooling2D, Flatten, Dense, BatchNormalization, Bidirectional, LSTM, MaxPool2D, Input, Lambda\n",
        "#from tensorflow.keras.optimizers import Adam\n",
        "import tensorflow.keras.backend as K\n",
        "from tensorflow.keras.callbacks import ModelCheckpoint"
      ]
    },
    {
      "cell_type": "code",
      "execution_count": null,
      "metadata": {
        "colab": {
          "base_uri": "https://localhost:8080/"
        },
        "id": "tHLUBb3RhW1Z",
        "outputId": "b8dfb726-cf50-4c77-86fe-a804970aef09"
      },
      "outputs": [
        {
          "output_type": "stream",
          "name": "stdout",
          "text": [
            "Model: \"model\"\n",
            "_________________________________________________________________\n",
            " Layer (type)                Output Shape              Param #   \n",
            "=================================================================\n",
            " input_1 (InputLayer)        [(None, 32, 128, 1)]      0         \n",
            "                                                                 \n",
            " conv2d (Conv2D)             (None, 32, 128, 64)       640       \n",
            "                                                                 \n",
            " max_pooling2d (MaxPooling2D  (None, 16, 64, 64)       0         \n",
            " )                                                               \n",
            "                                                                 \n",
            " conv2d_1 (Conv2D)           (None, 16, 64, 128)       73856     \n",
            "                                                                 \n",
            " max_pooling2d_1 (MaxPooling  (None, 8, 32, 128)       0         \n",
            " 2D)                                                             \n",
            "                                                                 \n",
            " conv2d_2 (Conv2D)           (None, 8, 32, 256)        295168    \n",
            "                                                                 \n",
            " conv2d_3 (Conv2D)           (None, 8, 32, 256)        590080    \n",
            "                                                                 \n",
            " max_pooling2d_2 (MaxPooling  (None, 4, 32, 256)       0         \n",
            " 2D)                                                             \n",
            "                                                                 \n",
            " conv2d_4 (Conv2D)           (None, 4, 32, 512)        1180160   \n",
            "                                                                 \n",
            " batch_normalization (BatchN  (None, 4, 32, 512)       2048      \n",
            " ormalization)                                                   \n",
            "                                                                 \n",
            " conv2d_5 (Conv2D)           (None, 4, 32, 512)        2359808   \n",
            "                                                                 \n",
            " batch_normalization_1 (Batc  (None, 4, 32, 512)       2048      \n",
            " hNormalization)                                                 \n",
            "                                                                 \n",
            " max_pooling2d_3 (MaxPooling  (None, 2, 32, 512)       0         \n",
            " 2D)                                                             \n",
            "                                                                 \n",
            " conv2d_6 (Conv2D)           (None, 1, 31, 512)        1049088   \n",
            "                                                                 \n",
            " lambda (Lambda)             (None, 31, 512)           0         \n",
            "                                                                 \n",
            " bidirectional (Bidirectiona  (None, 31, 512)          1574912   \n",
            " l)                                                              \n",
            "                                                                 \n",
            " bidirectional_1 (Bidirectio  (None, 31, 512)          1574912   \n",
            " nal)                                                            \n",
            "                                                                 \n",
            " dense (Dense)               (None, 31, 80)            41040     \n",
            "                                                                 \n",
            "=================================================================\n",
            "Total params: 8,743,760\n",
            "Trainable params: 8,741,712\n",
            "Non-trainable params: 2,048\n",
            "_________________________________________________________________\n"
          ]
        }
      ],
      "source": [
        "inputs = Input(shape=(32,128,1))\n",
        "\n",
        "# convolution layer with kernel size (3,3)\n",
        "conv_1 = Conv2D(64, (3,3), activation = 'relu', padding='same')(inputs)\n",
        "# poolig layer with kernel size (2,2)\n",
        "pool_1 = MaxPool2D(pool_size=(2, 2), strides=2)(conv_1)\n",
        "\n",
        "conv_2 = Conv2D(128, (3,3), activation = 'relu', padding='same')(pool_1)\n",
        "pool_2 = MaxPool2D(pool_size=(2, 2), strides=2)(conv_2)\n",
        "\n",
        "conv_3 = Conv2D(256, (3,3), activation = 'relu', padding='same')(pool_2)\n",
        "\n",
        "conv_4 = Conv2D(256, (3,3), activation = 'relu', padding='same')(conv_3)\n",
        "\n",
        "# poolig layer with kernel size (2,1)\n",
        "pool_4 = MaxPool2D(pool_size=(2, 1))(conv_4)\n",
        "\n",
        "conv_5 = Conv2D(512, (3,3), activation = 'relu', padding='same')(pool_4)\n",
        "\n",
        "# Batch normalization layer\n",
        "batch_norm_5 = BatchNormalization()(conv_5)\n",
        "\n",
        "conv_6 = Conv2D(512, (3,3), activation = 'relu', padding='same')(batch_norm_5)\n",
        "batch_norm_6 = BatchNormalization()(conv_6)\n",
        "pool_6 = MaxPool2D(pool_size=(2, 1))(batch_norm_6)\n",
        "\n",
        "conv_7 = Conv2D(512, (2,2), activation = 'relu')(pool_6)\n",
        "\n",
        "squeezed = Lambda(lambda x: K.squeeze(x, 1))(conv_7)\n",
        "\n",
        "# bidirectional LSTM layers with units=256\n",
        "blstm_1 = Bidirectional(LSTM(256, return_sequences=True, dropout = 0.2))(squeezed)\n",
        "blstm_2 = Bidirectional(LSTM(256, return_sequences=True, dropout = 0.2))(blstm_1)\n",
        "\n",
        "outputs = Dense(len(char_list) + 1, activation = 'softmax')(blstm_2)\n",
        "\n",
        "# model to be used at test time\n",
        "act_model = Model(inputs, outputs)\n",
        "\n",
        "act_model.summary()"
      ]
    },
    {
      "cell_type": "markdown",
      "source": [
        "**Loss Function**\n",
        "\n",
        "The utilization of the CTC (Connectionist Temporal Classification) loss function is particularly advantageous in the context of text recognition challenges. It offers a solution to the issue of annotating each individual time step, as well as addressing the complication of a single character spanning multiple time steps. The application of CTC eliminates the need for further processing that would be necessary without its use.\n",
        "\n",
        "In order to compute the CTC loss function, four specific inputs are required: the predicted outputs, the actual ground truth labels, the input sequence length for the LSTM, and the length of the ground truth label. To accommodate these requirements, we will design a customized loss function that caters to the model's needs. This adapted model will take these four inputs and produce the loss value as output. This modified model will serve the purpose of training. Meanwhile, for testing, we will continue using the original \"act_model\" that was initially created"
      ],
      "metadata": {
        "id": "oPN_6gK-snts"
      }
    },
    {
      "cell_type": "code",
      "execution_count": null,
      "metadata": {
        "id": "ILC5exGUiTG5"
      },
      "outputs": [],
      "source": [
        "the_labels = Input(name='the_labels', shape=[max_label_len], dtype='float32')\n",
        "input_length = Input(name='input_length', shape=[1], dtype='int8')\n",
        "label_length = Input(name='label_length', shape=[1], dtype='int8')\n",
        "\n",
        "def ctc_lambda_func(args):\n",
        "    y_pred, labels, input_length, label_length = args\n",
        "\n",
        "    return K.ctc_batch_cost(labels, y_pred, input_length, label_length)\n",
        "\n",
        "loss_out = Lambda(ctc_lambda_func, output_shape=(1,), name='ctc')([outputs, the_labels, input_length, label_length])\n",
        "\n",
        "#model to be used at training time\n",
        "model = Model(inputs=[inputs, the_labels, input_length, label_length], outputs=loss_out)"
      ]
    },
    {
      "cell_type": "markdown",
      "source": [
        "**Model Training**\n",
        "\n",
        "\n",
        "\n",
        "\n",
        "\n",
        "Now train your model on 7850 training images and 876 validation images.\n",
        "For training the model, we will employ the Stochastic Gradient Descent (sgd) optimizer. Furthermore, we can harness the Keras callbacks feature, which enables us to store the weights of the most optimal model based on the validation loss.\n",
        "\n",
        "In the \"model.compile()\" function call, it's noticeable that only \"y_pred\" has been included while \"y_true\" has been omitted. This decision stems from the fact that labels have already been incorporated as input to the model during an earlier phase."
      ],
      "metadata": {
        "id": "vKsYEoJwvTcF"
      }
    },
    {
      "cell_type": "code",
      "execution_count": null,
      "metadata": {
        "id": "9OsXCPR1i0y0"
      },
      "outputs": [],
      "source": [
        "batch_size = 16\n",
        "epochs = 40\n",
        "e = str(epochs)\n",
        "optimizer = 'sgd'"
      ]
    },
    {
      "cell_type": "code",
      "execution_count": null,
      "metadata": {
        "id": "FXz6Bye5i8b6"
      },
      "outputs": [],
      "source": [
        "model.compile(loss={'ctc': lambda y_true, y_pred: y_pred}, optimizer=optimizer, metrics=['accuracy'])\n",
        "\n",
        "filepath=\"weights.hdf5\"\n",
        "\n",
        "checkpoint = ModelCheckpoint(filepath=filepath, monitor='val_accuracy', verbose=2, save_best_only=True, mode='auto')\n",
        "callbacks_list = [checkpoint]"
      ]
    },
    {
      "cell_type": "code",
      "source": [
        "with open('model.json', 'w') as f:\n",
        "    f.write(model.to_json())\n",
        "f.close()"
      ],
      "metadata": {
        "id": "668X6OqgI1A3"
      },
      "execution_count": null,
      "outputs": []
    },
    {
      "cell_type": "code",
      "execution_count": null,
      "metadata": {
        "colab": {
          "base_uri": "https://localhost:8080/"
        },
        "id": "8p_WA107jUbF",
        "outputId": "579b449b-2dff-4cca-e09f-10a7fa07a5dc"
      },
      "outputs": [
        {
          "output_type": "stream",
          "name": "stdout",
          "text": [
            "Epoch 1/40\n",
            "\n",
            "Epoch 1: val_accuracy improved from -inf to 0.24731, saving model to weights.hdf5\n",
            "4780/4780 - 195s - loss: 9.5606 - accuracy: 0.0899 - val_loss: 4.9720 - val_accuracy: 0.2473 - 195s/epoch - 41ms/step\n",
            "Epoch 2/40\n",
            "\n",
            "Epoch 2: val_accuracy improved from 0.24731 to 0.44328, saving model to weights.hdf5\n",
            "4780/4780 - 175s - loss: 3.4035 - accuracy: 0.3388 - val_loss: 2.5108 - val_accuracy: 0.4433 - 175s/epoch - 37ms/step\n",
            "Epoch 3/40\n",
            "\n",
            "Epoch 3: val_accuracy improved from 0.44328 to 0.51849, saving model to weights.hdf5\n",
            "4780/4780 - 173s - loss: 2.2087 - accuracy: 0.4695 - val_loss: 2.1170 - val_accuracy: 0.5185 - 173s/epoch - 36ms/step\n",
            "Epoch 4/40\n",
            "\n",
            "Epoch 4: val_accuracy improved from 0.51849 to 0.58672, saving model to weights.hdf5\n",
            "4780/4780 - 174s - loss: 1.6914 - accuracy: 0.5524 - val_loss: 1.8192 - val_accuracy: 0.5867 - 174s/epoch - 36ms/step\n",
            "Epoch 5/40\n",
            "\n",
            "Epoch 5: val_accuracy improved from 0.58672 to 0.62518, saving model to weights.hdf5\n",
            "4780/4780 - 174s - loss: 1.3588 - accuracy: 0.6132 - val_loss: 1.6360 - val_accuracy: 0.6252 - 174s/epoch - 36ms/step\n",
            "Epoch 6/40\n",
            "\n",
            "Epoch 6: val_accuracy improved from 0.62518 to 0.64051, saving model to weights.hdf5\n",
            "4780/4780 - 165s - loss: 1.0988 - accuracy: 0.6620 - val_loss: 1.5610 - val_accuracy: 0.6405 - 165s/epoch - 35ms/step\n",
            "Epoch 7/40\n",
            "\n",
            "Epoch 7: val_accuracy improved from 0.64051 to 0.65540, saving model to weights.hdf5\n",
            "4780/4780 - 162s - loss: 0.9061 - accuracy: 0.7038 - val_loss: 1.5896 - val_accuracy: 0.6554 - 162s/epoch - 34ms/step\n",
            "Epoch 8/40\n",
            "\n",
            "Epoch 8: val_accuracy improved from 0.65540 to 0.68971, saving model to weights.hdf5\n",
            "4780/4780 - 169s - loss: 0.7348 - accuracy: 0.7446 - val_loss: 1.4765 - val_accuracy: 0.6897 - 169s/epoch - 35ms/step\n",
            "Epoch 9/40\n",
            "\n",
            "Epoch 9: val_accuracy improved from 0.68971 to 0.69638, saving model to weights.hdf5\n",
            "4780/4780 - 171s - loss: 0.5973 - accuracy: 0.7796 - val_loss: 1.5040 - val_accuracy: 0.6964 - 171s/epoch - 36ms/step\n",
            "Epoch 10/40\n",
            "\n",
            "Epoch 10: val_accuracy improved from 0.69638 to 0.70519, saving model to weights.hdf5\n",
            "4780/4780 - 171s - loss: 0.4891 - accuracy: 0.8109 - val_loss: 1.5454 - val_accuracy: 0.7052 - 171s/epoch - 36ms/step\n",
            "Epoch 11/40\n",
            "\n",
            "Epoch 11: val_accuracy improved from 0.70519 to 0.71846, saving model to weights.hdf5\n",
            "4780/4780 - 164s - loss: 0.3934 - accuracy: 0.8429 - val_loss: 1.5445 - val_accuracy: 0.7185 - 164s/epoch - 34ms/step\n",
            "Epoch 12/40\n",
            "\n",
            "Epoch 12: val_accuracy did not improve from 0.71846\n",
            "4780/4780 - 161s - loss: 0.3225 - accuracy: 0.8677 - val_loss: 1.5912 - val_accuracy: 0.7108 - 161s/epoch - 34ms/step\n",
            "Epoch 13/40\n",
            "\n",
            "Epoch 13: val_accuracy improved from 0.71846 to 0.72490, saving model to weights.hdf5\n",
            "4780/4780 - 170s - loss: 0.2696 - accuracy: 0.8884 - val_loss: 1.6526 - val_accuracy: 0.7249 - 170s/epoch - 35ms/step\n",
            "Epoch 14/40\n",
            "\n",
            "Epoch 14: val_accuracy improved from 0.72490 to 0.72890, saving model to weights.hdf5\n",
            "4780/4780 - 163s - loss: 0.2208 - accuracy: 0.9075 - val_loss: 1.6637 - val_accuracy: 0.7289 - 163s/epoch - 34ms/step\n",
            "Epoch 15/40\n",
            "\n",
            "Epoch 15: val_accuracy improved from 0.72890 to 0.73639, saving model to weights.hdf5\n",
            "4780/4780 - 162s - loss: 0.1782 - accuracy: 0.9247 - val_loss: 1.7137 - val_accuracy: 0.7364 - 162s/epoch - 34ms/step\n",
            "Epoch 16/40\n",
            "\n",
            "Epoch 16: val_accuracy improved from 0.73639 to 0.73787, saving model to weights.hdf5\n",
            "4780/4780 - 163s - loss: 0.1552 - accuracy: 0.9349 - val_loss: 1.6891 - val_accuracy: 0.7379 - 163s/epoch - 34ms/step\n",
            "Epoch 17/40\n",
            "\n",
            "Epoch 17: val_accuracy improved from 0.73787 to 0.74224, saving model to weights.hdf5\n",
            "4780/4780 - 170s - loss: 0.1315 - accuracy: 0.9458 - val_loss: 1.7254 - val_accuracy: 0.7422 - 170s/epoch - 36ms/step\n",
            "Epoch 18/40\n",
            "\n",
            "Epoch 18: val_accuracy improved from 0.74224 to 0.74342, saving model to weights.hdf5\n",
            "4780/4780 - 171s - loss: 0.1126 - accuracy: 0.9534 - val_loss: 1.7468 - val_accuracy: 0.7434 - 171s/epoch - 36ms/step\n",
            "Epoch 19/40\n",
            "\n",
            "Epoch 19: val_accuracy improved from 0.74342 to 0.75409, saving model to weights.hdf5\n",
            "4780/4780 - 170s - loss: 0.0964 - accuracy: 0.9616 - val_loss: 1.7738 - val_accuracy: 0.7541 - 170s/epoch - 36ms/step\n",
            "Epoch 20/40\n",
            "\n",
            "Epoch 20: val_accuracy did not improve from 0.75409\n",
            "4780/4780 - 169s - loss: 0.0949 - accuracy: 0.9621 - val_loss: 1.8512 - val_accuracy: 0.7481 - 169s/epoch - 35ms/step\n",
            "Epoch 21/40\n",
            "\n",
            "Epoch 21: val_accuracy did not improve from 0.75409\n",
            "4780/4780 - 166s - loss: 0.0931 - accuracy: 0.9625 - val_loss: 1.8421 - val_accuracy: 0.7516 - 166s/epoch - 35ms/step\n",
            "Epoch 22/40\n",
            "\n",
            "Epoch 22: val_accuracy did not improve from 0.75409\n",
            "4780/4780 - 170s - loss: 0.0843 - accuracy: 0.9661 - val_loss: 1.8405 - val_accuracy: 0.7503 - 170s/epoch - 36ms/step\n",
            "Epoch 23/40\n",
            "\n",
            "Epoch 23: val_accuracy improved from 0.75409 to 0.75750, saving model to weights.hdf5\n",
            "4780/4780 - 165s - loss: 0.0703 - accuracy: 0.9720 - val_loss: 1.8520 - val_accuracy: 0.7575 - 165s/epoch - 35ms/step\n",
            "Epoch 24/40\n",
            "\n",
            "Epoch 24: val_accuracy did not improve from 0.75750\n",
            "4780/4780 - 170s - loss: 0.0621 - accuracy: 0.9761 - val_loss: 1.8992 - val_accuracy: 0.7509 - 170s/epoch - 36ms/step\n",
            "Epoch 25/40\n",
            "\n",
            "Epoch 25: val_accuracy did not improve from 0.75750\n",
            "4780/4780 - 164s - loss: 0.0597 - accuracy: 0.9774 - val_loss: 1.9944 - val_accuracy: 0.7538 - 164s/epoch - 34ms/step\n",
            "Epoch 26/40\n",
            "\n",
            "Epoch 26: val_accuracy did not improve from 0.75750\n",
            "4780/4780 - 170s - loss: 0.0677 - accuracy: 0.9737 - val_loss: 1.9416 - val_accuracy: 0.7542 - 170s/epoch - 36ms/step\n",
            "Epoch 27/40\n",
            "\n",
            "Epoch 27: val_accuracy did not improve from 0.75750\n",
            "4780/4780 - 168s - loss: 0.0554 - accuracy: 0.9788 - val_loss: 1.9729 - val_accuracy: 0.7522 - 168s/epoch - 35ms/step\n",
            "Epoch 28/40\n",
            "\n",
            "Epoch 28: val_accuracy did not improve from 0.75750\n",
            "4780/4780 - 167s - loss: 0.0504 - accuracy: 0.9814 - val_loss: 1.9990 - val_accuracy: 0.7486 - 167s/epoch - 35ms/step\n",
            "Epoch 29/40\n",
            "\n",
            "Epoch 29: val_accuracy did not improve from 0.75750\n",
            "4780/4780 - 167s - loss: 0.0570 - accuracy: 0.9781 - val_loss: 1.9639 - val_accuracy: 0.7507 - 167s/epoch - 35ms/step\n",
            "Epoch 30/40\n",
            "\n",
            "Epoch 30: val_accuracy did not improve from 0.75750\n",
            "4780/4780 - 162s - loss: 0.0512 - accuracy: 0.9801 - val_loss: 1.9470 - val_accuracy: 0.7568 - 162s/epoch - 34ms/step\n",
            "Epoch 31/40\n",
            "\n",
            "Epoch 31: val_accuracy did not improve from 0.75750\n",
            "4780/4780 - 170s - loss: 0.0526 - accuracy: 0.9795 - val_loss: 1.9860 - val_accuracy: 0.7572 - 170s/epoch - 36ms/step\n",
            "Epoch 32/40\n",
            "\n",
            "Epoch 32: val_accuracy did not improve from 0.75750\n",
            "4780/4780 - 169s - loss: 0.0471 - accuracy: 0.9821 - val_loss: 1.9947 - val_accuracy: 0.7571 - 169s/epoch - 35ms/step\n",
            "Epoch 33/40\n",
            "\n",
            "Epoch 33: val_accuracy did not improve from 0.75750\n",
            "4780/4780 - 170s - loss: 0.0420 - accuracy: 0.9840 - val_loss: 2.0154 - val_accuracy: 0.7545 - 170s/epoch - 35ms/step\n",
            "Epoch 34/40\n",
            "\n",
            "Epoch 34: val_accuracy did not improve from 0.75750\n",
            "4780/4780 - 164s - loss: 0.0492 - accuracy: 0.9805 - val_loss: 2.0524 - val_accuracy: 0.7548 - 164s/epoch - 34ms/step\n",
            "Epoch 35/40\n",
            "\n",
            "Epoch 35: val_accuracy improved from 0.75750 to 0.75780, saving model to weights.hdf5\n",
            "4780/4780 - 169s - loss: 0.0494 - accuracy: 0.9797 - val_loss: 2.0574 - val_accuracy: 0.7578 - 169s/epoch - 35ms/step\n",
            "Epoch 36/40\n",
            "\n",
            "Epoch 36: val_accuracy improved from 0.75780 to 0.75898, saving model to weights.hdf5\n",
            "4780/4780 - 164s - loss: 0.0536 - accuracy: 0.9781 - val_loss: 2.0509 - val_accuracy: 0.7590 - 164s/epoch - 34ms/step\n",
            "Epoch 37/40\n",
            "\n",
            "Epoch 37: val_accuracy did not improve from 0.75898\n",
            "4780/4780 - 172s - loss: 0.0465 - accuracy: 0.9815 - val_loss: 2.1078 - val_accuracy: 0.7505 - 172s/epoch - 36ms/step\n",
            "Epoch 38/40\n",
            "\n",
            "Epoch 38: val_accuracy improved from 0.75898 to 0.76128, saving model to weights.hdf5\n",
            "4780/4780 - 166s - loss: 0.0359 - accuracy: 0.9862 - val_loss: 2.0123 - val_accuracy: 0.7613 - 166s/epoch - 35ms/step\n",
            "Epoch 39/40\n",
            "\n",
            "Epoch 39: val_accuracy did not improve from 0.76128\n",
            "4780/4780 - 165s - loss: 0.0284 - accuracy: 0.9899 - val_loss: 2.0486 - val_accuracy: 0.7582 - 165s/epoch - 34ms/step\n",
            "Epoch 40/40\n",
            "\n",
            "Epoch 40: val_accuracy improved from 0.76128 to 0.76780, saving model to weights.hdf5\n",
            "4780/4780 - 164s - loss: 0.0208 - accuracy: 0.9931 - val_loss: 2.0191 - val_accuracy: 0.7678 - 164s/epoch - 34ms/step\n"
          ]
        }
      ],
      "source": [
        "history = model.fit(x=[train_images, train_padded_label, train_input_length, train_label_length],\n",
        "                    y=np.zeros(len(train_images)),\n",
        "                    batch_size=batch_size,\n",
        "                    epochs=epochs,\n",
        "                    validation_data=([valid_images, valid_padded_label, valid_input_length, valid_label_length], [np.zeros(len(valid_images))]),\n",
        "                    verbose=2,\n",
        "                    callbacks=callbacks_list)"
      ]
    },
    {
      "cell_type": "code",
      "execution_count": null,
      "metadata": {
        "id": "SU5aurZCk7KD",
        "colab": {
          "base_uri": "https://localhost:8080/"
        },
        "outputId": "3f84a1ac-c3b7-4d01-f1ed-522f37c59c1c"
      },
      "outputs": [
        {
          "output_type": "stream",
          "name": "stderr",
          "text": [
            "WARNING:tensorflow:Compiled the loaded model, but the compiled metrics have yet to be built. `model.compile_metrics` will be empty until you train or evaluate the model.\n"
          ]
        }
      ],
      "source": [
        "#!cp \"weights.hdf5\" \"/content/drive/MyDrive/TCSion RIO/Handwritten text extraction/weights.hdf5\"\n",
        "#!cp \"model.json\" \"/content/drive/MyDrive/TCSion RIO/Handwritten text extraction/model.json\"\n",
        "\n",
        "act_model.load_weights(filepath)\n",
        "act_model.save(\"full_model.h5\")\n",
        "!cp \"full_model.h5\" \"/content/drive/MyDrive/TCSion RIO/Handwritten text extraction/full_model.h5\""
      ]
    },
    {
      "cell_type": "code",
      "source": [
        "!cp \"/content/drive/MyDrive/TCSion RIO/Handwritten text extraction/full_model.h5\" \"full_model.h5\""
      ],
      "metadata": {
        "id": "dp2yfWzZ73Ih"
      },
      "execution_count": null,
      "outputs": []
    },
    {
      "cell_type": "markdown",
      "source": [
        "# Testing"
      ],
      "metadata": {
        "id": "PcZbJM_jp2Wj"
      }
    },
    {
      "cell_type": "markdown",
      "source": [
        "The application of our training model is limited by the necessity for input labels, which are not available during testing. To address this, we will resort to utilizing the previously developed \"saved_model.\" This model, tailored for testing purposes, exclusively requires a singular input: the test image."
      ],
      "metadata": {
        "id": "U9ZfMkqR0MJ6"
      }
    },
    {
      "cell_type": "code",
      "source": [
        "import matplotlib.pyplot as plt"
      ],
      "metadata": {
        "id": "4D0xsWqaFKT1"
      },
      "execution_count": null,
      "outputs": []
    },
    {
      "cell_type": "code",
      "source": [
        "from keras.models import load_model\n",
        "\n",
        "saved_model = load_model(\"full_model.h5\")"
      ],
      "metadata": {
        "colab": {
          "base_uri": "https://localhost:8080/"
        },
        "id": "zOWEzoSl6GLR",
        "outputId": "707f39ea-37b9-44fa-db7f-edf710a8c76c"
      },
      "execution_count": null,
      "outputs": [
        {
          "output_type": "stream",
          "name": "stderr",
          "text": [
            "WARNING:tensorflow:No training configuration found in the save file, so the model was *not* compiled. Compile it manually.\n"
          ]
        }
      ]
    },
    {
      "cell_type": "code",
      "source": [
        "predictions = saved_model.predict(valid_images)"
      ],
      "metadata": {
        "colab": {
          "base_uri": "https://localhost:8080/"
        },
        "id": "abluoiZ048lW",
        "outputId": "b918e316-f338-48ea-f8c7-b720f2acfb7f"
      },
      "execution_count": null,
      "outputs": [
        {
          "output_type": "stream",
          "name": "stdout",
          "text": [
            "422/422 [==============================] - 17s 15ms/step\n"
          ]
        }
      ]
    },
    {
      "cell_type": "markdown",
      "source": [
        "**Prediction**"
      ],
      "metadata": {
        "id": "UABpgrF70oDv"
      }
    },
    {
      "cell_type": "code",
      "source": [
        "def predict_image(index):\n",
        "    pred = saved_model.predict(np.expand_dims(valid_images[index], axis=0))\n",
        "    out = K.get_value(K.ctc_decode(pred, input_length=np.ones(pred.shape[0]) * pred.shape[1], greedy=True)[0][0])\n",
        "    letters = ''\n",
        "    for x in out[0]:\n",
        "        if int(x) != -1:\n",
        "            letters += char_list[int(x)]\n",
        "    return letters, valid_original_text[index]"
      ],
      "metadata": {
        "id": "KnPzAwChD9AU"
      },
      "execution_count": null,
      "outputs": []
    },
    {
      "cell_type": "code",
      "source": [
        "for i in range(10):\n",
        "    predicted_text, original_text = predict_image(i)\n",
        "    plt.imshow(valid_images[i], cmap=plt.cm.gray)\n",
        "    plt.show()\n",
        "    print(predicted_text, original_text)"
      ],
      "metadata": {
        "colab": {
          "base_uri": "https://localhost:8080/",
          "height": 1000
        },
        "id": "bBFoCx1MEfWf",
        "outputId": "7f2079db-dcbe-407c-94ff-6af035a7939e"
      },
      "execution_count": null,
      "outputs": [
        {
          "output_type": "stream",
          "name": "stdout",
          "text": [
            "1/1 [==============================] - 0s 382ms/step\n"
          ]
        },
        {
          "output_type": "display_data",
          "data": {
            "text/plain": [
              "<Figure size 640x480 with 1 Axes>"
            ],
            "image/png": "[encoded data removed]"
          },
          "metadata": {}
        },
        {
          "output_type": "stream",
          "name": "stdout",
          "text": [
            "Cvu But\n",
            "1/1 [==============================] - 0s 23ms/step\n"
          ]
        },
        {
          "output_type": "display_data",
          "data": {
            "text/plain": [
              "<Figure size 640x480 with 1 Axes>"
            ],
            "image/png": "[encoded data removed]"
          },
          "metadata": {}
        },
        {
          "output_type": "stream",
          "name": "stdout",
          "text": [
            "up to\n",
            "1/1 [==============================] - 0s 23ms/step\n"
          ]
        },
        {
          "output_type": "display_data",
          "data": {
            "text/plain": [
              "<Figure size 640x480 with 1 Axes>"
            ],
            "image/png": "[encoded data removed]"
          },
          "metadata": {}
        },
        {
          "output_type": "stream",
          "name": "stdout",
          "text": [
            ". -\n",
            "1/1 [==============================] - 0s 23ms/step\n"
          ]
        },
        {
          "output_type": "display_data",
          "data": {
            "text/plain": [
              "<Figure size 640x480 with 1 Axes>"
            ],
            "image/png": "[encoded data removed]"
          },
          "metadata": {}
        },
        {
          "output_type": "stream",
          "name": "stdout",
          "text": [
            "ejtubodf distance\n",
            "1/1 [==============================] - 0s 24ms/step\n"
          ]
        },
        {
          "output_type": "display_data",
          "data": {
            "text/plain": [
              "<Figure size 640x480 with 1 Axes>"
            ],
            "image/png": "[encoded data removed]"
          },
          "metadata": {}
        },
        {
          "output_type": "stream",
          "name": "stdout",
          "text": [
            "qpdjh placing\n",
            "1/1 [==============================] - 0s 26ms/step\n"
          ]
        },
        {
          "output_type": "display_data",
          "data": {
            "text/plain": [
              "<Figure size 640x480 with 1 Axes>"
            ],
            "image/png": "[encoded data removed]"
          },
          "metadata": {}
        },
        {
          "output_type": "stream",
          "name": "stdout",
          "text": [
            "opu not\n",
            "1/1 [==============================] - 0s 24ms/step\n"
          ]
        },
        {
          "output_type": "display_data",
          "data": {
            "text/plain": [
              "<Figure size 640x480 with 1 Axes>"
            ],
            "image/png": "[encoded data removed]"
          },
          "metadata": {}
        },
        {
          "output_type": "stream",
          "name": "stdout",
          "text": [
            "Nbvsp Mauro\n",
            "1/1 [==============================] - 0s 22ms/step\n"
          ]
        },
        {
          "output_type": "display_data",
          "data": {
            "text/plain": [
              "<Figure size 640x480 with 1 Axes>"
            ],
            "image/png": "[encoded data removed]"
          },
          "metadata": {}
        },
        {
          "output_type": "stream",
          "name": "stdout",
          "text": [
            "svjofe ruined\n",
            "1/1 [==============================] - 0s 29ms/step\n"
          ]
        },
        {
          "output_type": "display_data",
          "data": {
            "text/plain": [
              "<Figure size 640x480 with 1 Axes>"
            ],
            "image/png": "[encoded data removed]"
          },
          "metadata": {}
        },
        {
          "output_type": "stream",
          "name": "stdout",
          "text": [
            "Qsf five\n",
            "1/1 [==============================] - 0s 26ms/step\n"
          ]
        },
        {
          "output_type": "display_data",
          "data": {
            "text/plain": [
              "<Figure size 640x480 with 1 Axes>"
            ],
            "image/png": "[encoded data removed]"
          },
          "metadata": {}
        },
        {
          "output_type": "stream",
          "name": "stdout",
          "text": [
            "pg of\n"
          ]
        }
      ]
    },
    {
      "cell_type": "code",
      "source": [
        "predict_image(0)"
      ],
      "metadata": {
        "colab": {
          "base_uri": "https://localhost:8080/"
        },
        "id": "vx8KPeVhERtJ",
        "outputId": "fd4cee3e-2eba-4360-974c-9e1844bb2a75"
      },
      "execution_count": null,
      "outputs": [
        {
          "output_type": "stream",
          "name": "stdout",
          "text": [
            "1/1 [==============================] - 0s 25ms/step\n"
          ]
        },
        {
          "output_type": "execute_result",
          "data": {
            "text/plain": [
              "('Cvu', 'But')"
            ]
          },
          "metadata": {},
          "execution_count": 32
        }
      ]
    },
    {
      "cell_type": "code",
      "source": [
        "pred = saved_model.predict(np.expand_dims(valid_images[0], axis=0))\n",
        "out = K.get_value(K.ctc_decode(pred, input_length=np.ones(pred.shape[0]) * pred.shape[1], greedy=True)[0][0])\n",
        "out"
      ],
      "metadata": {
        "colab": {
          "base_uri": "https://localhost:8080/"
        },
        "id": "izH5QnH-B3i3",
        "outputId": "69db1797-03e7-45c6-91e1-00ff44d41529"
      },
      "execution_count": null,
      "outputs": [
        {
          "output_type": "stream",
          "name": "stdout",
          "text": [
            "1/1 [==============================] - 0s 26ms/step\n"
          ]
        },
        {
          "output_type": "execute_result",
          "data": {
            "text/plain": [
              "array([[28, 73, 72, -1, -1, -1, -1, -1, -1, -1, -1, -1, -1, -1, -1, -1,\n",
              "        -1, -1, -1, -1, -1, -1, -1, -1, -1, -1, -1, -1, -1, -1, -1]])"
            ]
          },
          "metadata": {},
          "execution_count": 33
        }
      ]
    },
    {
      "cell_type": "code",
      "source": [
        "with open(\"character_encoding.json\", \"w\") as json_file:\n",
        "    json.dump(char_list, json_file)\n",
        "json_file.close()"
      ],
      "metadata": {
        "id": "giblMVctDf3K"
      },
      "execution_count": null,
      "outputs": []
    }
  ],
  "metadata": {
    "colab": {
      "provenance": [],
      "include_colab_link": true
    },
    "kernelspec": {
      "display_name": "Python 3",
      "name": "python3"
    },
    "language_info": {
      "name": "python"
    }
  },
  "nbformat": 4,
  "nbformat_minor": 0
}