{
  "nbformat": 4,
  "nbformat_minor": 0,
  "metadata": {
    "colab": {
      "provenance": [],
      "include_colab_link": true
    },
    "kernelspec": {
      "name": "python3",
      "display_name": "Python 3"
    },
    "language_info": {
      "name": "python"
    },
    "accelerator": "GPU",
    "gpuClass": "standard"
  },
  "cells": [
    {
      "cell_type": "markdown",
      "metadata": {
        "id": "view-in-github",
        "colab_type": "text"
      },
      "source": [
        "<a href=\"https://colab.research.google.com/github/AnnmariyaFrancis/ICT-Assignments/blob/main/Ann_Mariya_Francis_breast_cancer_(2).ipynb\" target=\"_parent\"><img src=\"https://colab.research.google.com/assets/colab-badge.svg\" alt=\"Open In Colab\"/></a>"
      ]
    },
    {
      "cell_type": "code",
      "execution_count": 1,
      "metadata": {
        "id": "iuDzBIVnvOUc"
      },
      "outputs": [],
      "source": [
        "import pandas as pd"
      ]
    },
    {
      "cell_type": "code",
      "source": [
        "data = pd.read_csv(\"/content/breastcancer.csv\")"
      ],
      "metadata": {
        "id": "XzFPgZzPvp5y"
      },
      "execution_count": 2,
      "outputs": []
    },
    {
      "cell_type": "code",
      "source": [
        "data.columns"
      ],
      "metadata": {
        "colab": {
          "base_uri": "https://localhost:8080/"
        },
        "id": "jgWXKusHvuz_",
        "outputId": "0f7c754a-5ced-41f8-c084-350aa980c8a0"
      },
      "execution_count": 3,
      "outputs": [
        {
          "output_type": "execute_result",
          "data": {
            "text/plain": [
              "Index(['id', 'diagnosis', 'radius_mean', 'texture_mean', 'perimeter_mean',\n",
              "       'area_mean', 'smoothness_mean', 'compactness_mean', 'concavity_mean',\n",
              "       'concave points_mean', 'symmetry_mean', 'fractal_dimension_mean',\n",
              "       'radius_se', 'texture_se', 'perimeter_se', 'area_se', 'smoothness_se',\n",
              "       'compactness_se', 'concavity_se', 'concave points_se', 'symmetry_se',\n",
              "       'fractal_dimension_se', 'radius_worst', 'texture_worst',\n",
              "       'perimeter_worst', 'area_worst', 'smoothness_worst',\n",
              "       'compactness_worst', 'concavity_worst', 'concave points_worst',\n",
              "       'symmetry_worst', 'fractal_dimension_worst', 'Unnamed: 32'],\n",
              "      dtype='object')"
            ]
          },
          "metadata": {},
          "execution_count": 3
        }
      ]
    },
    {
      "cell_type": "code",
      "source": [
        "data.isna().sum()"
      ],
      "metadata": {
        "colab": {
          "base_uri": "https://localhost:8080/"
        },
        "id": "WBV-ReCQv0qc",
        "outputId": "f4d226ab-1648-45d4-f1aa-98f5c3edd014"
      },
      "execution_count": 4,
      "outputs": [
        {
          "output_type": "execute_result",
          "data": {
            "text/plain": [
              "id                           0\n",
              "diagnosis                    0\n",
              "radius_mean                  0\n",
              "texture_mean                 0\n",
              "perimeter_mean               0\n",
              "area_mean                    0\n",
              "smoothness_mean              0\n",
              "compactness_mean             0\n",
              "concavity_mean               0\n",
              "concave points_mean          0\n",
              "symmetry_mean                0\n",
              "fractal_dimension_mean       0\n",
              "radius_se                    0\n",
              "texture_se                   0\n",
              "perimeter_se                 0\n",
              "area_se                      0\n",
              "smoothness_se                0\n",
              "compactness_se               0\n",
              "concavity_se                 0\n",
              "concave points_se            0\n",
              "symmetry_se                  0\n",
              "fractal_dimension_se         0\n",
              "radius_worst                 0\n",
              "texture_worst                0\n",
              "perimeter_worst              0\n",
              "area_worst                   0\n",
              "smoothness_worst             0\n",
              "compactness_worst            0\n",
              "concavity_worst              0\n",
              "concave points_worst         0\n",
              "symmetry_worst               0\n",
              "fractal_dimension_worst      0\n",
              "Unnamed: 32                569\n",
              "dtype: int64"
            ]
          },
          "metadata": {},
          "execution_count": 4
        }
      ]
    },
    {
      "cell_type": "code",
      "source": [
        "x = data[[ 'radius_mean', 'texture_mean', 'perimeter_mean',\n",
        "       'area_mean', 'smoothness_mean', 'compactness_mean', 'concavity_mean',\n",
        "       'concave points_mean', 'symmetry_mean', 'fractal_dimension_mean',\n",
        "       'radius_se', 'texture_se', 'perimeter_se', 'area_se', 'smoothness_se',\n",
        "       'compactness_se', 'concavity_se', 'concave points_se', 'symmetry_se',\n",
        "       'fractal_dimension_se', 'radius_worst', 'texture_worst',\n",
        "       'perimeter_worst', 'area_worst', 'smoothness_worst',\n",
        "       'compactness_worst', 'concavity_worst', 'concave points_worst',\n",
        "       'symmetry_worst', 'fractal_dimension_worst']]"
      ],
      "metadata": {
        "id": "c8Cb_VCHwBTZ"
      },
      "execution_count": 5,
      "outputs": []
    },
    {
      "cell_type": "code",
      "source": [
        "y = data['diagnosis']"
      ],
      "metadata": {
        "id": "VxFFlWGSwPQ6"
      },
      "execution_count": 6,
      "outputs": []
    },
    {
      "cell_type": "code",
      "source": [
        "y.value_counts()"
      ],
      "metadata": {
        "colab": {
          "base_uri": "https://localhost:8080/"
        },
        "id": "1A2yIpuVwT4q",
        "outputId": "f0c9d944-19a6-468a-c86d-11db2daed810"
      },
      "execution_count": 7,
      "outputs": [
        {
          "output_type": "execute_result",
          "data": {
            "text/plain": [
              "B    357\n",
              "M    212\n",
              "Name: diagnosis, dtype: int64"
            ]
          },
          "metadata": {},
          "execution_count": 7
        }
      ]
    },
    {
      "cell_type": "code",
      "source": [
        "y  = y.map({\"B\":0,\"M\":1})"
      ],
      "metadata": {
        "id": "eZdmKLC6wU4S"
      },
      "execution_count": 8,
      "outputs": []
    },
    {
      "cell_type": "code",
      "source": [
        "from sklearn.model_selection import train_test_split"
      ],
      "metadata": {
        "id": "NXqNESkVwfsV"
      },
      "execution_count": 9,
      "outputs": []
    },
    {
      "cell_type": "markdown",
      "source": [
        " we split the model with a test set of 20% of the original data set."
      ],
      "metadata": {
        "id": "0ZpfSFOPUanJ"
      }
    },
    {
      "cell_type": "code",
      "source": [
        "x_train, x_test, y_train, y_test = train_test_split(x,y,\n",
        "                                                     test_size=0.2,\n",
        "                                                     random_state = 134)"
      ],
      "metadata": {
        "id": "MlOUwLc8wpK8"
      },
      "execution_count": 10,
      "outputs": []
    },
    {
      "cell_type": "markdown",
      "source": [
        "Scale the data"
      ],
      "metadata": {
        "id": "j9A35JxDVAta"
      }
    },
    {
      "cell_type": "code",
      "source": [
        "from sklearn.preprocessing import StandardScaler\n",
        "scaler = StandardScaler()\n",
        "x_train = scaler.fit_transform(x_train)\n",
        "x_test = scaler.transform(x_test)"
      ],
      "metadata": {
        "id": "F5DRVl95U_p_"
      },
      "execution_count": 48,
      "outputs": []
    },
    {
      "cell_type": "code",
      "source": [
        "x_train.shape"
      ],
      "metadata": {
        "colab": {
          "base_uri": "https://localhost:8080/"
        },
        "id": "DAFGrVTrxaht",
        "outputId": "79b9bd19-a5f7-4669-d8cc-dee435b9881e"
      },
      "execution_count": 11,
      "outputs": [
        {
          "output_type": "execute_result",
          "data": {
            "text/plain": [
              "(455, 30)"
            ]
          },
          "metadata": {},
          "execution_count": 11
        }
      ]
    },
    {
      "cell_type": "markdown",
      "source": [
        "Build the model in TensorFlow"
      ],
      "metadata": {
        "id": "P-r12tP9VNtc"
      }
    },
    {
      "cell_type": "code",
      "source": [
        "from tensorflow.keras.models import Sequential"
      ],
      "metadata": {
        "id": "I95cXZ8Zwzcv"
      },
      "execution_count": 12,
      "outputs": []
    },
    {
      "cell_type": "code",
      "source": [
        "from tensorflow.keras.layers import Dense"
      ],
      "metadata": {
        "id": "iE_jtd__xHOc"
      },
      "execution_count": 13,
      "outputs": []
    },
    {
      "cell_type": "code",
      "source": [
        "model1 = Sequential()\n",
        "model1.add(Dense(32, input_shape = (30,), activation = \"relu\"))\n",
        "model1.add(Dense(32, activation = \"relu\"))\n",
        "model1.add(Dense(1, activation = \"sigmoid\"))\n",
        "model1.summary()"
      ],
      "metadata": {
        "colab": {
          "base_uri": "https://localhost:8080/"
        },
        "id": "PgqN-gzXxKku",
        "outputId": "63a94ff1-360a-4fe2-e3f0-b22d5f8b9dd5"
      },
      "execution_count": 37,
      "outputs": [
        {
          "output_type": "stream",
          "name": "stdout",
          "text": [
            "Model: \"sequential_3\"\n",
            "_________________________________________________________________\n",
            " Layer (type)                Output Shape              Param #   \n",
            "=================================================================\n",
            " dense_7 (Dense)             (None, 32)                992       \n",
            "                                                                 \n",
            " dense_8 (Dense)             (None, 32)                1056      \n",
            "                                                                 \n",
            " dense_9 (Dense)             (None, 1)                 33        \n",
            "                                                                 \n",
            "=================================================================\n",
            "Total params: 2,081\n",
            "Trainable params: 2,081\n",
            "Non-trainable params: 0\n",
            "_________________________________________________________________\n"
          ]
        }
      ]
    },
    {
      "cell_type": "code",
      "source": [
        "model1.compile(optimizer = \"adam\", loss = \"binary_crossentropy\",\n",
        "               metrics = [\"accuracy\"])"
      ],
      "metadata": {
        "id": "b2a5v4RExwCY"
      },
      "execution_count": 38,
      "outputs": []
    },
    {
      "cell_type": "code",
      "source": [
        "model1.fit(x_train, y_train, epochs = 15)"
      ],
      "metadata": {
        "colab": {
          "base_uri": "https://localhost:8080/"
        },
        "id": "xlDD9NZ1x7H0",
        "outputId": "6e55ba63-686b-4d9b-8c6f-081c7214e6e4"
      },
      "execution_count": 45,
      "outputs": [
        {
          "output_type": "stream",
          "name": "stdout",
          "text": [
            "Epoch 1/15\n",
            "15/15 [==============================] - 0s 3ms/step - loss: 0.2157 - accuracy: 0.9187\n",
            "Epoch 2/15\n",
            "15/15 [==============================] - 0s 3ms/step - loss: 0.2638 - accuracy: 0.8989\n",
            "Epoch 3/15\n",
            "15/15 [==============================] - 0s 4ms/step - loss: 0.4452 - accuracy: 0.8527\n",
            "Epoch 4/15\n",
            "15/15 [==============================] - 0s 3ms/step - loss: 0.2476 - accuracy: 0.9121\n",
            "Epoch 5/15\n",
            "15/15 [==============================] - 0s 3ms/step - loss: 0.2281 - accuracy: 0.9121\n",
            "Epoch 6/15\n",
            "15/15 [==============================] - 0s 3ms/step - loss: 0.1890 - accuracy: 0.9231\n",
            "Epoch 7/15\n",
            "15/15 [==============================] - 0s 3ms/step - loss: 0.1932 - accuracy: 0.9187\n",
            "Epoch 8/15\n",
            "15/15 [==============================] - 0s 3ms/step - loss: 0.1761 - accuracy: 0.9253\n",
            "Epoch 9/15\n",
            "15/15 [==============================] - 0s 3ms/step - loss: 0.1771 - accuracy: 0.9319\n",
            "Epoch 10/15\n",
            "15/15 [==============================] - 0s 3ms/step - loss: 0.2868 - accuracy: 0.8989\n",
            "Epoch 11/15\n",
            "15/15 [==============================] - 0s 3ms/step - loss: 0.1681 - accuracy: 0.9341\n",
            "Epoch 12/15\n",
            "15/15 [==============================] - 0s 4ms/step - loss: 0.1912 - accuracy: 0.9187\n",
            "Epoch 13/15\n",
            "15/15 [==============================] - 0s 4ms/step - loss: 0.1639 - accuracy: 0.9319\n",
            "Epoch 14/15\n",
            "15/15 [==============================] - 0s 4ms/step - loss: 0.1605 - accuracy: 0.9319\n",
            "Epoch 15/15\n",
            "15/15 [==============================] - 0s 3ms/step - loss: 0.1619 - accuracy: 0.9297\n"
          ]
        },
        {
          "output_type": "execute_result",
          "data": {
            "text/plain": [
              "<keras.callbacks.History at 0x7f4fa8ea6940>"
            ]
          },
          "metadata": {},
          "execution_count": 45
        }
      ]
    },
    {
      "cell_type": "code",
      "source": [
        "print(\"Train score:\", model1.evaluate(x_train, y_train))"
      ],
      "metadata": {
        "id": "Fg4Bx8XQyDn-",
        "colab": {
          "base_uri": "https://localhost:8080/"
        },
        "outputId": "d404f6e8-0986-47e9-a356-c9aa4d822abc"
      },
      "execution_count": 46,
      "outputs": [
        {
          "output_type": "stream",
          "name": "stdout",
          "text": [
            "15/15 [==============================] - 0s 2ms/step - loss: 0.1510 - accuracy: 0.9385\n",
            "Train score: [0.15101933479309082, 0.9384615421295166]\n"
          ]
        }
      ]
    },
    {
      "cell_type": "code",
      "source": [
        "print(\"Test score:\", model1.evaluate(x_test, y_test))"
      ],
      "metadata": {
        "colab": {
          "base_uri": "https://localhost:8080/"
        },
        "id": "zHL-vho3SQD-",
        "outputId": "cbfadde1-9c02-4d56-93df-aecceb89483f"
      },
      "execution_count": 47,
      "outputs": [
        {
          "output_type": "stream",
          "name": "stdout",
          "text": [
            "4/4 [==============================] - 0s 4ms/step - loss: 0.2988 - accuracy: 0.9035\n",
            "Test score: [0.2988249361515045, 0.9035087823867798]\n"
          ]
        }
      ]
    }
  ]
}